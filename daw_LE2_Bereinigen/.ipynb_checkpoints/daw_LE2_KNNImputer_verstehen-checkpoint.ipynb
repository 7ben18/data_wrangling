{
 "cells": [
  {
   "cell_type": "code",
   "execution_count": 1,
   "id": "3053640d",
   "metadata": {},
   "outputs": [],
   "source": [
    "# KNN Imputer verstehen\n",
    "import pandas as pd\n",
    "import numpy as np\n",
    "\n",
    "from sklearn.impute import KNNImputer"
   ]
  },
  {
   "cell_type": "code",
   "execution_count": 2,
   "id": "c44cd19c",
   "metadata": {},
   "outputs": [
    {
     "data": {
      "text/html": [
       "<div>\n",
       "<style scoped>\n",
       "    .dataframe tbody tr th:only-of-type {\n",
       "        vertical-align: middle;\n",
       "    }\n",
       "\n",
       "    .dataframe tbody tr th {\n",
       "        vertical-align: top;\n",
       "    }\n",
       "\n",
       "    .dataframe thead th {\n",
       "        text-align: right;\n",
       "    }\n",
       "</style>\n",
       "<table border=\"1\" class=\"dataframe\">\n",
       "  <thead>\n",
       "    <tr style=\"text-align: right;\">\n",
       "      <th></th>\n",
       "      <th>Alter</th>\n",
       "      <th>Masse</th>\n",
       "      <th>Groesse</th>\n",
       "    </tr>\n",
       "  </thead>\n",
       "  <tbody>\n",
       "    <tr>\n",
       "      <th>0</th>\n",
       "      <td>16</td>\n",
       "      <td>60.0</td>\n",
       "      <td>160</td>\n",
       "    </tr>\n",
       "    <tr>\n",
       "      <th>1</th>\n",
       "      <td>17</td>\n",
       "      <td>70.0</td>\n",
       "      <td>170</td>\n",
       "    </tr>\n",
       "    <tr>\n",
       "      <th>2</th>\n",
       "      <td>19</td>\n",
       "      <td>NaN</td>\n",
       "      <td>180</td>\n",
       "    </tr>\n",
       "    <tr>\n",
       "      <th>3</th>\n",
       "      <td>19</td>\n",
       "      <td>80.0</td>\n",
       "      <td>200</td>\n",
       "    </tr>\n",
       "  </tbody>\n",
       "</table>\n",
       "</div>"
      ],
      "text/plain": [
       "   Alter  Masse  Groesse\n",
       "0     16   60.0      160\n",
       "1     17   70.0      170\n",
       "2     19    NaN      180\n",
       "3     19   80.0      200"
      ]
     },
     "execution_count": 2,
     "metadata": {},
     "output_type": "execute_result"
    }
   ],
   "source": [
    "# Kleines Pseudo DataFrame mit Na Values erstellen\n",
    "# Daten fuer das DataFrame\n",
    "data = {\"Alter\": [16,17,19,19], \"Masse\": [60,70,np.nan,80], \"Groesse\": [160,170,180,200]}\n",
    "\n",
    "# DataFrame erstellen\n",
    "df = pd.DataFrame(data)\n",
    "\n",
    "# Kopfzeile\n",
    "headers = df.columns # Kopfzeile\n",
    "\n",
    "# Ausgabe\n",
    "df"
   ]
  },
  {
   "cell_type": "code",
   "execution_count": 6,
   "id": "ac09c9dd",
   "metadata": {},
   "outputs": [
    {
     "name": "stdout",
     "output_type": "stream",
     "text": [
      "   Alter  Masse  Groesse\n",
      "0     16   60.0      160\n",
      "1     17   70.0      170\n",
      "2     19    NaN      180\n",
      "3     19   80.0      200\n"
     ]
    },
    {
     "data": {
      "text/html": [
       "<div>\n",
       "<style scoped>\n",
       "    .dataframe tbody tr th:only-of-type {\n",
       "        vertical-align: middle;\n",
       "    }\n",
       "\n",
       "    .dataframe tbody tr th {\n",
       "        vertical-align: top;\n",
       "    }\n",
       "\n",
       "    .dataframe thead th {\n",
       "        text-align: right;\n",
       "    }\n",
       "</style>\n",
       "<table border=\"1\" class=\"dataframe\">\n",
       "  <thead>\n",
       "    <tr style=\"text-align: right;\">\n",
       "      <th></th>\n",
       "      <th>Alter</th>\n",
       "      <th>Masse</th>\n",
       "      <th>Groesse</th>\n",
       "    </tr>\n",
       "  </thead>\n",
       "  <tbody>\n",
       "    <tr>\n",
       "      <th>0</th>\n",
       "      <td>16.0</td>\n",
       "      <td>60.0</td>\n",
       "      <td>160.0</td>\n",
       "    </tr>\n",
       "    <tr>\n",
       "      <th>1</th>\n",
       "      <td>17.0</td>\n",
       "      <td>70.0</td>\n",
       "      <td>170.0</td>\n",
       "    </tr>\n",
       "    <tr>\n",
       "      <th>2</th>\n",
       "      <td>19.0</td>\n",
       "      <td>75.0</td>\n",
       "      <td>180.0</td>\n",
       "    </tr>\n",
       "    <tr>\n",
       "      <th>3</th>\n",
       "      <td>19.0</td>\n",
       "      <td>80.0</td>\n",
       "      <td>200.0</td>\n",
       "    </tr>\n",
       "  </tbody>\n",
       "</table>\n",
       "</div>"
      ],
      "text/plain": [
       "   Alter  Masse  Groesse\n",
       "0   16.0   60.0    160.0\n",
       "1   17.0   70.0    170.0\n",
       "2   19.0   75.0    180.0\n",
       "3   19.0   80.0    200.0"
      ]
     },
     "execution_count": 6,
     "metadata": {},
     "output_type": "execute_result"
    }
   ],
   "source": [
    "# KNN Imputer verwenden\n",
    "df_knn = df.copy()\n",
    "print(df_knn)\n",
    "# knn_impute variabel erstellen\n",
    "knn_impute = KNNImputer(n_neighbors=2)\n",
    "\n",
    "# anwenden und df ueberschreiben\n",
    "df_knn = knn_impute.fit_transform(df_knn)\n",
    "\n",
    "# DataFrame wieder erstellen\n",
    "df_knn = pd.DataFrame(df_knn)\n",
    "df_knn.columns = headers\n",
    "\n",
    "df_knn\n",
    "\n"
   ]
  },
  {
   "cell_type": "code",
   "execution_count": 7,
   "id": "692dc346",
   "metadata": {},
   "outputs": [
    {
     "name": "stdout",
     "output_type": "stream",
     "text": [
      "20.223748416156685 10.198039027185569 20.0\n"
     ]
    }
   ],
   "source": [
    "# Wie kommt der KNN imputer auf den Wert 95?\n",
    "\n",
    "# Distanzen berechnen \n",
    "dis1 = ((19 - 16)**2 + (180 - 160)**2)**0.5 # Zeile 0\n",
    "\n",
    "dis2 = ((19 - 17)**2 + (180 - 170)**2)**0.5 # Zeile 1\n",
    "\n",
    "dis3 = ((19 - 19)**2 + (180 - 200)**2)**0.5 # Zeile 3\n",
    "\n",
    "print(dis1, dis2, dis3)\n",
    "\n",
    "# n_neighbours = 2 => wert dis3, ist der zweit nahster Wert!\n",
    "# Somit interesssant sind nur: dis3 und dis 2. (20.0 und 10.198)\n",
    "# diese haben bei der Masse folgenden Wert: 70 und 80 (Zeile 1 und Zeile 3)\n",
    "# Nun bildet man den mittelwert und erhaelt 75. \n",
    "# Dre NaN Wert \n"
   ]
  }
 ],
 "metadata": {
  "kernelspec": {
   "display_name": "Python 3 (ipykernel)",
   "language": "python",
   "name": "python3"
  },
  "language_info": {
   "codemirror_mode": {
    "name": "ipython",
    "version": 3
   },
   "file_extension": ".py",
   "mimetype": "text/x-python",
   "name": "python",
   "nbconvert_exporter": "python",
   "pygments_lexer": "ipython3",
   "version": "3.9.7"
  }
 },
 "nbformat": 4,
 "nbformat_minor": 5
}
