{
 "cells": [
  {
   "cell_type": "markdown",
   "id": "495f129d",
   "metadata": {},
   "source": [
    "# Summarische Statistik"
   ]
  },
  {
   "cell_type": "code",
   "execution_count": 1,
   "id": "8a5e73cb",
   "metadata": {},
   "outputs": [],
   "source": [
    "## Modul importieren\n",
    "import numpy as np\n",
    "import pandas as pd"
   ]
  },
  {
   "cell_type": "code",
   "execution_count": 2,
   "id": "db1a36d5",
   "metadata": {},
   "outputs": [
    {
     "data": {
      "text/html": [
       "<div>\n",
       "<style scoped>\n",
       "    .dataframe tbody tr th:only-of-type {\n",
       "        vertical-align: middle;\n",
       "    }\n",
       "\n",
       "    .dataframe tbody tr th {\n",
       "        vertical-align: top;\n",
       "    }\n",
       "\n",
       "    .dataframe thead th {\n",
       "        text-align: right;\n",
       "    }\n",
       "</style>\n",
       "<table border=\"1\" class=\"dataframe\">\n",
       "  <thead>\n",
       "    <tr style=\"text-align: right;\">\n",
       "      <th></th>\n",
       "      <th>region</th>\n",
       "      <th>state</th>\n",
       "      <th>individuals</th>\n",
       "      <th>family_members</th>\n",
       "      <th>state_pop</th>\n",
       "    </tr>\n",
       "  </thead>\n",
       "  <tbody>\n",
       "    <tr>\n",
       "      <th>0</th>\n",
       "      <td>East South Central</td>\n",
       "      <td>Alabama</td>\n",
       "      <td>2570.0</td>\n",
       "      <td>864.0</td>\n",
       "      <td>4887681</td>\n",
       "    </tr>\n",
       "    <tr>\n",
       "      <th>1</th>\n",
       "      <td>Pacific</td>\n",
       "      <td>Alaska</td>\n",
       "      <td>1434.0</td>\n",
       "      <td>582.0</td>\n",
       "      <td>735139</td>\n",
       "    </tr>\n",
       "    <tr>\n",
       "      <th>2</th>\n",
       "      <td>Mountain</td>\n",
       "      <td>Arizona</td>\n",
       "      <td>7259.0</td>\n",
       "      <td>2606.0</td>\n",
       "      <td>7158024</td>\n",
       "    </tr>\n",
       "  </tbody>\n",
       "</table>\n",
       "</div>"
      ],
      "text/plain": [
       "               region    state  individuals  family_members  state_pop\n",
       "0  East South Central  Alabama       2570.0           864.0    4887681\n",
       "1             Pacific   Alaska       1434.0           582.0     735139\n",
       "2            Mountain  Arizona       7259.0          2606.0    7158024"
      ]
     },
     "execution_count": 2,
     "metadata": {},
     "output_type": "execute_result"
    }
   ],
   "source": [
    "homelessness = pd.read_csv(\"homelessness.csv\", index_col=\"Unnamed: 0\")\n",
    "homelessness.head(3)"
   ]
  },
  {
   "cell_type": "code",
   "execution_count": 3,
   "id": "3c1a48eb",
   "metadata": {},
   "outputs": [
    {
     "name": "stdout",
     "output_type": "stream",
     "text": [
      "Mittelwert 7225.78431372549\n",
      "Median 3082.0\n",
      "Minimum 434.0\n",
      "Maximum 109008.0\n",
      "Modus 0    2280.0\n",
      "1    3776.0\n",
      "Name: individuals, dtype: float64\n",
      "Standardawbeichung 15991.025083231812\n",
      "Varianz 255712883.21254897\n",
      "Summe 368515.0\n",
      "Quantile 3993.0\n"
     ]
    }
   ],
   "source": [
    "# Mittelwert ausgeben\n",
    "homele_indi_mean = homelessness[\"individuals\"].mean()\n",
    "print(\"Mittelwert\", homele_indi_mean)\n",
    "\n",
    "# Median ausgeben\n",
    "homele_indi_median = homelessness[\"individuals\"].median()\n",
    "print(\"Median\", homele_indi_median)\n",
    "\n",
    "# Minimum ausgeben\n",
    "homele_indi_min = homelessness[\"individuals\"].min()\n",
    "print(\"Minimum\", homele_indi_min)\n",
    "\n",
    "# Maximum ausgeben\n",
    "homele_indi_max = homelessness[\"individuals\"].max()\n",
    "print(\"Maximum\", homele_indi_max)\n",
    "\n",
    "# Modus ausgeben\n",
    "homele_indi_modus = homelessness[\"individuals\"].mode()\n",
    "print(\"Modus\", homele_indi_modus)\n",
    "\n",
    "# Standardabweichung\n",
    "homele_indi_std = homelessness[\"individuals\"].std()\n",
    "print(\"Standardawbeichung\", homele_indi_std)\n",
    "\n",
    "# Varianz\n",
    "homele_indi_var = homelessness[\"individuals\"].var()\n",
    "print(\"Varianz\", homele_indi_var)\n",
    "\n",
    "homele_indi_sum = homelessness[\"individuals\"].sum()\n",
    "print(\"Summe\", homele_indi_sum)\n",
    "\n",
    "homele_indi_quantile = homelessness[\"individuals\"].quantile(0.6)\n",
    "print(\"Quantile\", homele_indi_quantile)"
   ]
  },
  {
   "cell_type": "code",
   "execution_count": 4,
   "id": "1c449ff3",
   "metadata": {},
   "outputs": [],
   "source": [
    "def pct30(spalte):\n",
    "    return spalte.quantile(0.3)\n",
    "\n",
    "def pct40(spalte):\n",
    "    return spalte.quantile(0.4)\n",
    "\n",
    "def IQR(spalte):\n",
    "    return spalte.quantile(0.75) - spalte.quantile(0.25)"
   ]
  },
  {
   "cell_type": "markdown",
   "id": "af2aca40",
   "metadata": {},
   "source": [
    "# Aggregier Methode"
   ]
  },
  {
   "cell_type": "code",
   "execution_count": 5,
   "id": "35c74561",
   "metadata": {},
   "outputs": [
    {
     "data": {
      "text/plain": [
       "2092741.0"
      ]
     },
     "execution_count": 5,
     "metadata": {},
     "output_type": "execute_result"
    }
   ],
   "source": [
    "homelessness[\"state_pop\"].agg(pct30)"
   ]
  },
  {
   "cell_type": "code",
   "execution_count": 6,
   "id": "babf4d14",
   "metadata": {},
   "outputs": [
    {
     "data": {
      "text/plain": [
       "individuals       1745.0\n",
       "state_pop      2092741.0\n",
       "dtype: float64"
      ]
     },
     "execution_count": 6,
     "metadata": {},
     "output_type": "execute_result"
    }
   ],
   "source": [
    "homelessness[[\"individuals\", \"state_pop\"]].agg(pct30)"
   ]
  },
  {
   "cell_type": "code",
   "execution_count": 7,
   "id": "89808475",
   "metadata": {},
   "outputs": [
    {
     "data": {
      "text/plain": [
       "pct30    2092741.0\n",
       "pct40    3148618.0\n",
       "Name: state_pop, dtype: float64"
      ]
     },
     "execution_count": 7,
     "metadata": {},
     "output_type": "execute_result"
    }
   ],
   "source": [
    "homelessness[\"state_pop\"].agg([pct30, pct40])"
   ]
  },
  {
   "cell_type": "code",
   "execution_count": 8,
   "id": "7a158aaf",
   "metadata": {},
   "outputs": [
    {
     "data": {
      "text/plain": [
       "5563533.0"
      ]
     },
     "execution_count": 8,
     "metadata": {},
     "output_type": "execute_result"
    }
   ],
   "source": [
    "homelessness[\"state_pop\"].agg(IQR)"
   ]
  },
  {
   "cell_type": "markdown",
   "id": "7e37fd14",
   "metadata": {},
   "source": [
    "# Werte kummulieren"
   ]
  },
  {
   "cell_type": "code",
   "execution_count": 9,
   "id": "916fdba2",
   "metadata": {},
   "outputs": [
    {
     "data": {
      "text/plain": [
       "0     4887681\n",
       "1     5622820\n",
       "2    12780844\n",
       "Name: state_pop, dtype: int64"
      ]
     },
     "execution_count": 9,
     "metadata": {},
     "output_type": "execute_result"
    }
   ],
   "source": [
    "homelessness[\"state_pop\"].cumsum().head(3)\n",
    "# Kumuliert die Spalte auf mittels + "
   ]
  },
  {
   "cell_type": "code",
   "execution_count": 10,
   "id": "dd92117d",
   "metadata": {},
   "outputs": [
    {
     "data": {
      "text/plain": [
       "0    2.570000e+03\n",
       "1    3.685380e+06\n",
       "2    2.675217e+10\n",
       "3    6.099496e+13\n",
       "Name: individuals, dtype: float64"
      ]
     },
     "execution_count": 10,
     "metadata": {},
     "output_type": "execute_result"
    }
   ],
   "source": [
    "homelessness[\"individuals\"].cumprod().head(4)\n",
    "# Multipliziert die Spalte mittels *"
   ]
  },
  {
   "cell_type": "code",
   "execution_count": 11,
   "id": "bdd7a7ba",
   "metadata": {},
   "outputs": [
    {
     "data": {
      "text/plain": [
       "0      2570.0\n",
       "1      2570.0\n",
       "2      7259.0\n",
       "3      7259.0\n",
       "4    109008.0\n",
       "Name: individuals, dtype: float64"
      ]
     },
     "execution_count": 11,
     "metadata": {},
     "output_type": "execute_result"
    }
   ],
   "source": [
    "homelessness[\"individuals\"].cummax().head(5)"
   ]
  },
  {
   "cell_type": "code",
   "execution_count": 12,
   "id": "0ec9579f",
   "metadata": {},
   "outputs": [
    {
     "data": {
      "text/plain": [
       "0    2570.0\n",
       "1    1434.0\n",
       "2    1434.0\n",
       "3    1434.0\n",
       "4    1434.0\n",
       "Name: individuals, dtype: float64"
      ]
     },
     "execution_count": 12,
     "metadata": {},
     "output_type": "execute_result"
    }
   ],
   "source": [
    "homelessness[\"individuals\"].cummin().head(5)"
   ]
  },
  {
   "cell_type": "markdown",
   "id": "87feca42",
   "metadata": {},
   "source": [
    "# Sales Daten importieren"
   ]
  },
  {
   "cell_type": "code",
   "execution_count": 13,
   "id": "b2397631",
   "metadata": {},
   "outputs": [
    {
     "data": {
      "text/html": [
       "<div>\n",
       "<style scoped>\n",
       "    .dataframe tbody tr th:only-of-type {\n",
       "        vertical-align: middle;\n",
       "    }\n",
       "\n",
       "    .dataframe tbody tr th {\n",
       "        vertical-align: top;\n",
       "    }\n",
       "\n",
       "    .dataframe thead th {\n",
       "        text-align: right;\n",
       "    }\n",
       "</style>\n",
       "<table border=\"1\" class=\"dataframe\">\n",
       "  <thead>\n",
       "    <tr style=\"text-align: right;\">\n",
       "      <th></th>\n",
       "      <th>store</th>\n",
       "      <th>type</th>\n",
       "      <th>department</th>\n",
       "      <th>date</th>\n",
       "      <th>weekly_sales</th>\n",
       "      <th>is_holiday</th>\n",
       "      <th>temperature_c</th>\n",
       "      <th>fuel_price_usd_per_l</th>\n",
       "      <th>unemployment</th>\n",
       "    </tr>\n",
       "  </thead>\n",
       "  <tbody>\n",
       "    <tr>\n",
       "      <th>0</th>\n",
       "      <td>1</td>\n",
       "      <td>A</td>\n",
       "      <td>1</td>\n",
       "      <td>2010-02-05</td>\n",
       "      <td>24924.50</td>\n",
       "      <td>False</td>\n",
       "      <td>5.727778</td>\n",
       "      <td>0.679451</td>\n",
       "      <td>8.106</td>\n",
       "    </tr>\n",
       "    <tr>\n",
       "      <th>1</th>\n",
       "      <td>1</td>\n",
       "      <td>A</td>\n",
       "      <td>1</td>\n",
       "      <td>2010-03-05</td>\n",
       "      <td>21827.90</td>\n",
       "      <td>False</td>\n",
       "      <td>8.055556</td>\n",
       "      <td>0.693452</td>\n",
       "      <td>8.106</td>\n",
       "    </tr>\n",
       "    <tr>\n",
       "      <th>2</th>\n",
       "      <td>1</td>\n",
       "      <td>A</td>\n",
       "      <td>1</td>\n",
       "      <td>2010-04-02</td>\n",
       "      <td>57258.43</td>\n",
       "      <td>False</td>\n",
       "      <td>16.816667</td>\n",
       "      <td>0.718284</td>\n",
       "      <td>7.808</td>\n",
       "    </tr>\n",
       "    <tr>\n",
       "      <th>3</th>\n",
       "      <td>1</td>\n",
       "      <td>A</td>\n",
       "      <td>1</td>\n",
       "      <td>2010-05-07</td>\n",
       "      <td>17413.94</td>\n",
       "      <td>False</td>\n",
       "      <td>22.527778</td>\n",
       "      <td>0.748928</td>\n",
       "      <td>7.808</td>\n",
       "    </tr>\n",
       "    <tr>\n",
       "      <th>4</th>\n",
       "      <td>1</td>\n",
       "      <td>A</td>\n",
       "      <td>1</td>\n",
       "      <td>2010-06-04</td>\n",
       "      <td>17558.09</td>\n",
       "      <td>False</td>\n",
       "      <td>27.050000</td>\n",
       "      <td>0.714586</td>\n",
       "      <td>7.808</td>\n",
       "    </tr>\n",
       "  </tbody>\n",
       "</table>\n",
       "</div>"
      ],
      "text/plain": [
       "   store type  department        date  weekly_sales  is_holiday  \\\n",
       "0      1    A           1  2010-02-05      24924.50       False   \n",
       "1      1    A           1  2010-03-05      21827.90       False   \n",
       "2      1    A           1  2010-04-02      57258.43       False   \n",
       "3      1    A           1  2010-05-07      17413.94       False   \n",
       "4      1    A           1  2010-06-04      17558.09       False   \n",
       "\n",
       "   temperature_c  fuel_price_usd_per_l  unemployment  \n",
       "0       5.727778              0.679451         8.106  \n",
       "1       8.055556              0.693452         8.106  \n",
       "2      16.816667              0.718284         7.808  \n",
       "3      22.527778              0.748928         7.808  \n",
       "4      27.050000              0.714586         7.808  "
      ]
     },
     "execution_count": 13,
     "metadata": {},
     "output_type": "execute_result"
    }
   ],
   "source": [
    "sales_data = pd.read_csv(\"sales_subset.csv\", index_col=\"Unnamed: 0\")\n",
    "sales_data.head()"
   ]
  },
  {
   "cell_type": "code",
   "execution_count": 14,
   "id": "90b40afc",
   "metadata": {},
   "outputs": [
    {
     "name": "stdout",
     "output_type": "stream",
     "text": [
      "<class 'pandas.core.frame.DataFrame'>\n",
      "Int64Index: 10774 entries, 0 to 10773\n",
      "Data columns (total 9 columns):\n",
      " #   Column                Non-Null Count  Dtype  \n",
      "---  ------                --------------  -----  \n",
      " 0   store                 10774 non-null  int64  \n",
      " 1   type                  10774 non-null  object \n",
      " 2   department            10774 non-null  int64  \n",
      " 3   date                  10774 non-null  object \n",
      " 4   weekly_sales          10774 non-null  float64\n",
      " 5   is_holiday            10774 non-null  bool   \n",
      " 6   temperature_c         10774 non-null  float64\n",
      " 7   fuel_price_usd_per_l  10774 non-null  float64\n",
      " 8   unemployment          10774 non-null  float64\n",
      "dtypes: bool(1), float64(4), int64(2), object(2)\n",
      "memory usage: 768.1+ KB\n"
     ]
    }
   ],
   "source": [
    "sales_data.info()"
   ]
  },
  {
   "cell_type": "markdown",
   "id": "652b76f1",
   "metadata": {},
   "source": [
    "# Aggregation "
   ]
  },
  {
   "cell_type": "code",
   "execution_count": 15,
   "id": "3b0625c6",
   "metadata": {},
   "outputs": [],
   "source": [
    "def iqr(spalte):\n",
    "    return spalte.quantile(0.75) - spalte.quantile(0.25)"
   ]
  },
  {
   "cell_type": "code",
   "execution_count": 16,
   "id": "0e901af2",
   "metadata": {},
   "outputs": [
    {
     "data": {
      "text/plain": [
       "16.583333333333336"
      ]
     },
     "execution_count": 16,
     "metadata": {},
     "output_type": "execute_result"
    }
   ],
   "source": [
    "sales_data[\"temperature_c\"].agg(iqr)"
   ]
  },
  {
   "cell_type": "code",
   "execution_count": 17,
   "id": "bd3e1674",
   "metadata": {},
   "outputs": [
    {
     "data": {
      "text/plain": [
       "temperature_c           16.583333\n",
       "fuel_price_usd_per_l     0.073176\n",
       "unemployment             0.565000\n",
       "dtype: float64"
      ]
     },
     "execution_count": 17,
     "metadata": {},
     "output_type": "execute_result"
    }
   ],
   "source": [
    "sales_data[[\"temperature_c\", \"fuel_price_usd_per_l\", \"unemployment\"]].agg(iqr)"
   ]
  },
  {
   "cell_type": "code",
   "execution_count": 18,
   "id": "06598ef4",
   "metadata": {},
   "outputs": [
    {
     "data": {
      "text/html": [
       "<div>\n",
       "<style scoped>\n",
       "    .dataframe tbody tr th:only-of-type {\n",
       "        vertical-align: middle;\n",
       "    }\n",
       "\n",
       "    .dataframe tbody tr th {\n",
       "        vertical-align: top;\n",
       "    }\n",
       "\n",
       "    .dataframe thead th {\n",
       "        text-align: right;\n",
       "    }\n",
       "</style>\n",
       "<table border=\"1\" class=\"dataframe\">\n",
       "  <thead>\n",
       "    <tr style=\"text-align: right;\">\n",
       "      <th></th>\n",
       "      <th>temperature_c</th>\n",
       "      <th>fuel_price_usd_per_l</th>\n",
       "      <th>unemployment</th>\n",
       "    </tr>\n",
       "  </thead>\n",
       "  <tbody>\n",
       "    <tr>\n",
       "      <th>iqr</th>\n",
       "      <td>16.583333</td>\n",
       "      <td>0.073176</td>\n",
       "      <td>0.565</td>\n",
       "    </tr>\n",
       "    <tr>\n",
       "      <th>median</th>\n",
       "      <td>16.966667</td>\n",
       "      <td>0.743381</td>\n",
       "      <td>8.099</td>\n",
       "    </tr>\n",
       "  </tbody>\n",
       "</table>\n",
       "</div>"
      ],
      "text/plain": [
       "        temperature_c  fuel_price_usd_per_l  unemployment\n",
       "iqr         16.583333              0.073176         0.565\n",
       "median      16.966667              0.743381         8.099"
      ]
     },
     "execution_count": 18,
     "metadata": {},
     "output_type": "execute_result"
    }
   ],
   "source": [
    "import numpy as np\n",
    "sales_data[[\"temperature_c\", \"fuel_price_usd_per_l\", \"unemployment\"]].agg([iqr, np.median])"
   ]
  },
  {
   "cell_type": "markdown",
   "id": "4782ec73",
   "metadata": {},
   "source": [
    "# Statistik"
   ]
  },
  {
   "cell_type": "code",
   "execution_count": 19,
   "id": "96ef228b",
   "metadata": {},
   "outputs": [
    {
     "data": {
      "text/html": [
       "<div>\n",
       "<style scoped>\n",
       "    .dataframe tbody tr th:only-of-type {\n",
       "        vertical-align: middle;\n",
       "    }\n",
       "\n",
       "    .dataframe tbody tr th {\n",
       "        vertical-align: top;\n",
       "    }\n",
       "\n",
       "    .dataframe thead th {\n",
       "        text-align: right;\n",
       "    }\n",
       "</style>\n",
       "<table border=\"1\" class=\"dataframe\">\n",
       "  <thead>\n",
       "    <tr style=\"text-align: right;\">\n",
       "      <th></th>\n",
       "      <th>store</th>\n",
       "      <th>type</th>\n",
       "      <th>department</th>\n",
       "      <th>date</th>\n",
       "      <th>weekly_sales</th>\n",
       "      <th>is_holiday</th>\n",
       "      <th>temperature_c</th>\n",
       "      <th>fuel_price_usd_per_l</th>\n",
       "      <th>unemployment</th>\n",
       "    </tr>\n",
       "  </thead>\n",
       "  <tbody>\n",
       "    <tr>\n",
       "      <th>0</th>\n",
       "      <td>1</td>\n",
       "      <td>A</td>\n",
       "      <td>1</td>\n",
       "      <td>2010-02-05</td>\n",
       "      <td>24924.50</td>\n",
       "      <td>False</td>\n",
       "      <td>5.727778</td>\n",
       "      <td>0.679451</td>\n",
       "      <td>8.106</td>\n",
       "    </tr>\n",
       "    <tr>\n",
       "      <th>6437</th>\n",
       "      <td>19</td>\n",
       "      <td>A</td>\n",
       "      <td>13</td>\n",
       "      <td>2010-02-05</td>\n",
       "      <td>38597.52</td>\n",
       "      <td>False</td>\n",
       "      <td>-6.133333</td>\n",
       "      <td>0.780365</td>\n",
       "      <td>8.350</td>\n",
       "    </tr>\n",
       "    <tr>\n",
       "      <th>1249</th>\n",
       "      <td>2</td>\n",
       "      <td>A</td>\n",
       "      <td>31</td>\n",
       "      <td>2010-02-05</td>\n",
       "      <td>3840.21</td>\n",
       "      <td>False</td>\n",
       "      <td>4.550000</td>\n",
       "      <td>0.679451</td>\n",
       "      <td>8.324</td>\n",
       "    </tr>\n",
       "    <tr>\n",
       "      <th>6449</th>\n",
       "      <td>19</td>\n",
       "      <td>A</td>\n",
       "      <td>14</td>\n",
       "      <td>2010-02-05</td>\n",
       "      <td>17590.59</td>\n",
       "      <td>False</td>\n",
       "      <td>-6.133333</td>\n",
       "      <td>0.780365</td>\n",
       "      <td>8.350</td>\n",
       "    </tr>\n",
       "    <tr>\n",
       "      <th>6461</th>\n",
       "      <td>19</td>\n",
       "      <td>A</td>\n",
       "      <td>16</td>\n",
       "      <td>2010-02-05</td>\n",
       "      <td>4929.87</td>\n",
       "      <td>False</td>\n",
       "      <td>-6.133333</td>\n",
       "      <td>0.780365</td>\n",
       "      <td>8.350</td>\n",
       "    </tr>\n",
       "    <tr>\n",
       "      <th>...</th>\n",
       "      <td>...</td>\n",
       "      <td>...</td>\n",
       "      <td>...</td>\n",
       "      <td>...</td>\n",
       "      <td>...</td>\n",
       "      <td>...</td>\n",
       "      <td>...</td>\n",
       "      <td>...</td>\n",
       "      <td>...</td>\n",
       "    </tr>\n",
       "    <tr>\n",
       "      <th>3592</th>\n",
       "      <td>6</td>\n",
       "      <td>A</td>\n",
       "      <td>99</td>\n",
       "      <td>2012-10-05</td>\n",
       "      <td>440.00</td>\n",
       "      <td>False</td>\n",
       "      <td>21.577778</td>\n",
       "      <td>0.955511</td>\n",
       "      <td>5.329</td>\n",
       "    </tr>\n",
       "    <tr>\n",
       "      <th>8108</th>\n",
       "      <td>20</td>\n",
       "      <td>A</td>\n",
       "      <td>99</td>\n",
       "      <td>2012-10-05</td>\n",
       "      <td>660.00</td>\n",
       "      <td>False</td>\n",
       "      <td>15.983333</td>\n",
       "      <td>1.052726</td>\n",
       "      <td>7.293</td>\n",
       "    </tr>\n",
       "    <tr>\n",
       "      <th>10773</th>\n",
       "      <td>39</td>\n",
       "      <td>A</td>\n",
       "      <td>99</td>\n",
       "      <td>2012-10-05</td>\n",
       "      <td>915.00</td>\n",
       "      <td>False</td>\n",
       "      <td>22.250000</td>\n",
       "      <td>0.955511</td>\n",
       "      <td>6.228</td>\n",
       "    </tr>\n",
       "    <tr>\n",
       "      <th>6257</th>\n",
       "      <td>14</td>\n",
       "      <td>A</td>\n",
       "      <td>96</td>\n",
       "      <td>2012-10-12</td>\n",
       "      <td>3.00</td>\n",
       "      <td>False</td>\n",
       "      <td>12.483333</td>\n",
       "      <td>1.056689</td>\n",
       "      <td>8.667</td>\n",
       "    </tr>\n",
       "    <tr>\n",
       "      <th>3384</th>\n",
       "      <td>6</td>\n",
       "      <td>A</td>\n",
       "      <td>77</td>\n",
       "      <td>2012-10-26</td>\n",
       "      <td>-21.63</td>\n",
       "      <td>False</td>\n",
       "      <td>22.411111</td>\n",
       "      <td>0.926188</td>\n",
       "      <td>5.329</td>\n",
       "    </tr>\n",
       "  </tbody>\n",
       "</table>\n",
       "<p>10774 rows × 9 columns</p>\n",
       "</div>"
      ],
      "text/plain": [
       "       store type  department        date  weekly_sales  is_holiday  \\\n",
       "0          1    A           1  2010-02-05      24924.50       False   \n",
       "6437      19    A          13  2010-02-05      38597.52       False   \n",
       "1249       2    A          31  2010-02-05       3840.21       False   \n",
       "6449      19    A          14  2010-02-05      17590.59       False   \n",
       "6461      19    A          16  2010-02-05       4929.87       False   \n",
       "...      ...  ...         ...         ...           ...         ...   \n",
       "3592       6    A          99  2012-10-05        440.00       False   \n",
       "8108      20    A          99  2012-10-05        660.00       False   \n",
       "10773     39    A          99  2012-10-05        915.00       False   \n",
       "6257      14    A          96  2012-10-12          3.00       False   \n",
       "3384       6    A          77  2012-10-26        -21.63       False   \n",
       "\n",
       "       temperature_c  fuel_price_usd_per_l  unemployment  \n",
       "0           5.727778              0.679451         8.106  \n",
       "6437       -6.133333              0.780365         8.350  \n",
       "1249        4.550000              0.679451         8.324  \n",
       "6449       -6.133333              0.780365         8.350  \n",
       "6461       -6.133333              0.780365         8.350  \n",
       "...              ...                   ...           ...  \n",
       "3592       21.577778              0.955511         5.329  \n",
       "8108       15.983333              1.052726         7.293  \n",
       "10773      22.250000              0.955511         6.228  \n",
       "6257       12.483333              1.056689         8.667  \n",
       "3384       22.411111              0.926188         5.329  \n",
       "\n",
       "[10774 rows x 9 columns]"
      ]
     },
     "execution_count": 19,
     "metadata": {},
     "output_type": "execute_result"
    }
   ],
   "source": [
    "sales_1_1 = sales_data.sort_values(\"date\")\n",
    "sales_1_1"
   ]
  },
  {
   "cell_type": "code",
   "execution_count": 20,
   "id": "c1b22187",
   "metadata": {},
   "outputs": [
    {
     "data": {
      "text/html": [
       "<div>\n",
       "<style scoped>\n",
       "    .dataframe tbody tr th:only-of-type {\n",
       "        vertical-align: middle;\n",
       "    }\n",
       "\n",
       "    .dataframe tbody tr th {\n",
       "        vertical-align: top;\n",
       "    }\n",
       "\n",
       "    .dataframe thead th {\n",
       "        text-align: right;\n",
       "    }\n",
       "</style>\n",
       "<table border=\"1\" class=\"dataframe\">\n",
       "  <thead>\n",
       "    <tr style=\"text-align: right;\">\n",
       "      <th></th>\n",
       "      <th>store</th>\n",
       "      <th>type</th>\n",
       "      <th>department</th>\n",
       "      <th>date</th>\n",
       "      <th>weekly_sales</th>\n",
       "      <th>is_holiday</th>\n",
       "      <th>temperature_c</th>\n",
       "      <th>fuel_price_usd_per_l</th>\n",
       "      <th>unemployment</th>\n",
       "      <th>cum_weekly_sales</th>\n",
       "    </tr>\n",
       "  </thead>\n",
       "  <tbody>\n",
       "    <tr>\n",
       "      <th>0</th>\n",
       "      <td>1</td>\n",
       "      <td>A</td>\n",
       "      <td>1</td>\n",
       "      <td>2010-02-05</td>\n",
       "      <td>24924.50</td>\n",
       "      <td>False</td>\n",
       "      <td>5.727778</td>\n",
       "      <td>0.679451</td>\n",
       "      <td>8.106</td>\n",
       "      <td>2.492450e+04</td>\n",
       "    </tr>\n",
       "    <tr>\n",
       "      <th>6437</th>\n",
       "      <td>19</td>\n",
       "      <td>A</td>\n",
       "      <td>13</td>\n",
       "      <td>2010-02-05</td>\n",
       "      <td>38597.52</td>\n",
       "      <td>False</td>\n",
       "      <td>-6.133333</td>\n",
       "      <td>0.780365</td>\n",
       "      <td>8.350</td>\n",
       "      <td>6.352202e+04</td>\n",
       "    </tr>\n",
       "    <tr>\n",
       "      <th>1249</th>\n",
       "      <td>2</td>\n",
       "      <td>A</td>\n",
       "      <td>31</td>\n",
       "      <td>2010-02-05</td>\n",
       "      <td>3840.21</td>\n",
       "      <td>False</td>\n",
       "      <td>4.550000</td>\n",
       "      <td>0.679451</td>\n",
       "      <td>8.324</td>\n",
       "      <td>6.736223e+04</td>\n",
       "    </tr>\n",
       "    <tr>\n",
       "      <th>6449</th>\n",
       "      <td>19</td>\n",
       "      <td>A</td>\n",
       "      <td>14</td>\n",
       "      <td>2010-02-05</td>\n",
       "      <td>17590.59</td>\n",
       "      <td>False</td>\n",
       "      <td>-6.133333</td>\n",
       "      <td>0.780365</td>\n",
       "      <td>8.350</td>\n",
       "      <td>8.495282e+04</td>\n",
       "    </tr>\n",
       "    <tr>\n",
       "      <th>6461</th>\n",
       "      <td>19</td>\n",
       "      <td>A</td>\n",
       "      <td>16</td>\n",
       "      <td>2010-02-05</td>\n",
       "      <td>4929.87</td>\n",
       "      <td>False</td>\n",
       "      <td>-6.133333</td>\n",
       "      <td>0.780365</td>\n",
       "      <td>8.350</td>\n",
       "      <td>8.988269e+04</td>\n",
       "    </tr>\n",
       "    <tr>\n",
       "      <th>...</th>\n",
       "      <td>...</td>\n",
       "      <td>...</td>\n",
       "      <td>...</td>\n",
       "      <td>...</td>\n",
       "      <td>...</td>\n",
       "      <td>...</td>\n",
       "      <td>...</td>\n",
       "      <td>...</td>\n",
       "      <td>...</td>\n",
       "      <td>...</td>\n",
       "    </tr>\n",
       "    <tr>\n",
       "      <th>3592</th>\n",
       "      <td>6</td>\n",
       "      <td>A</td>\n",
       "      <td>99</td>\n",
       "      <td>2012-10-05</td>\n",
       "      <td>440.00</td>\n",
       "      <td>False</td>\n",
       "      <td>21.577778</td>\n",
       "      <td>0.955511</td>\n",
       "      <td>5.329</td>\n",
       "      <td>2.568932e+08</td>\n",
       "    </tr>\n",
       "    <tr>\n",
       "      <th>8108</th>\n",
       "      <td>20</td>\n",
       "      <td>A</td>\n",
       "      <td>99</td>\n",
       "      <td>2012-10-05</td>\n",
       "      <td>660.00</td>\n",
       "      <td>False</td>\n",
       "      <td>15.983333</td>\n",
       "      <td>1.052726</td>\n",
       "      <td>7.293</td>\n",
       "      <td>2.568938e+08</td>\n",
       "    </tr>\n",
       "    <tr>\n",
       "      <th>10773</th>\n",
       "      <td>39</td>\n",
       "      <td>A</td>\n",
       "      <td>99</td>\n",
       "      <td>2012-10-05</td>\n",
       "      <td>915.00</td>\n",
       "      <td>False</td>\n",
       "      <td>22.250000</td>\n",
       "      <td>0.955511</td>\n",
       "      <td>6.228</td>\n",
       "      <td>2.568947e+08</td>\n",
       "    </tr>\n",
       "    <tr>\n",
       "      <th>6257</th>\n",
       "      <td>14</td>\n",
       "      <td>A</td>\n",
       "      <td>96</td>\n",
       "      <td>2012-10-12</td>\n",
       "      <td>3.00</td>\n",
       "      <td>False</td>\n",
       "      <td>12.483333</td>\n",
       "      <td>1.056689</td>\n",
       "      <td>8.667</td>\n",
       "      <td>2.568947e+08</td>\n",
       "    </tr>\n",
       "    <tr>\n",
       "      <th>3384</th>\n",
       "      <td>6</td>\n",
       "      <td>A</td>\n",
       "      <td>77</td>\n",
       "      <td>2012-10-26</td>\n",
       "      <td>-21.63</td>\n",
       "      <td>False</td>\n",
       "      <td>22.411111</td>\n",
       "      <td>0.926188</td>\n",
       "      <td>5.329</td>\n",
       "      <td>2.568947e+08</td>\n",
       "    </tr>\n",
       "  </tbody>\n",
       "</table>\n",
       "<p>10774 rows × 10 columns</p>\n",
       "</div>"
      ],
      "text/plain": [
       "       store type  department        date  weekly_sales  is_holiday  \\\n",
       "0          1    A           1  2010-02-05      24924.50       False   \n",
       "6437      19    A          13  2010-02-05      38597.52       False   \n",
       "1249       2    A          31  2010-02-05       3840.21       False   \n",
       "6449      19    A          14  2010-02-05      17590.59       False   \n",
       "6461      19    A          16  2010-02-05       4929.87       False   \n",
       "...      ...  ...         ...         ...           ...         ...   \n",
       "3592       6    A          99  2012-10-05        440.00       False   \n",
       "8108      20    A          99  2012-10-05        660.00       False   \n",
       "10773     39    A          99  2012-10-05        915.00       False   \n",
       "6257      14    A          96  2012-10-12          3.00       False   \n",
       "3384       6    A          77  2012-10-26        -21.63       False   \n",
       "\n",
       "       temperature_c  fuel_price_usd_per_l  unemployment  cum_weekly_sales  \n",
       "0           5.727778              0.679451         8.106      2.492450e+04  \n",
       "6437       -6.133333              0.780365         8.350      6.352202e+04  \n",
       "1249        4.550000              0.679451         8.324      6.736223e+04  \n",
       "6449       -6.133333              0.780365         8.350      8.495282e+04  \n",
       "6461       -6.133333              0.780365         8.350      8.988269e+04  \n",
       "...              ...                   ...           ...               ...  \n",
       "3592       21.577778              0.955511         5.329      2.568932e+08  \n",
       "8108       15.983333              1.052726         7.293      2.568938e+08  \n",
       "10773      22.250000              0.955511         6.228      2.568947e+08  \n",
       "6257       12.483333              1.056689         8.667      2.568947e+08  \n",
       "3384       22.411111              0.926188         5.329      2.568947e+08  \n",
       "\n",
       "[10774 rows x 10 columns]"
      ]
     },
     "execution_count": 20,
     "metadata": {},
     "output_type": "execute_result"
    }
   ],
   "source": [
    "sales_1_1[\"cum_weekly_sales\"] = sales_1_1[\"weekly_sales\"].cumsum()\n",
    "sales_1_1"
   ]
  },
  {
   "cell_type": "code",
   "execution_count": 21,
   "id": "b2232c77",
   "metadata": {},
   "outputs": [
    {
     "data": {
      "text/html": [
       "<div>\n",
       "<style scoped>\n",
       "    .dataframe tbody tr th:only-of-type {\n",
       "        vertical-align: middle;\n",
       "    }\n",
       "\n",
       "    .dataframe tbody tr th {\n",
       "        vertical-align: top;\n",
       "    }\n",
       "\n",
       "    .dataframe thead th {\n",
       "        text-align: right;\n",
       "    }\n",
       "</style>\n",
       "<table border=\"1\" class=\"dataframe\">\n",
       "  <thead>\n",
       "    <tr style=\"text-align: right;\">\n",
       "      <th></th>\n",
       "      <th>store</th>\n",
       "      <th>type</th>\n",
       "      <th>department</th>\n",
       "      <th>date</th>\n",
       "      <th>weekly_sales</th>\n",
       "      <th>is_holiday</th>\n",
       "      <th>temperature_c</th>\n",
       "      <th>fuel_price_usd_per_l</th>\n",
       "      <th>unemployment</th>\n",
       "      <th>cum_weekly_sales</th>\n",
       "      <th>cum_max_sales</th>\n",
       "    </tr>\n",
       "  </thead>\n",
       "  <tbody>\n",
       "    <tr>\n",
       "      <th>0</th>\n",
       "      <td>1</td>\n",
       "      <td>A</td>\n",
       "      <td>1</td>\n",
       "      <td>2010-02-05</td>\n",
       "      <td>24924.50</td>\n",
       "      <td>False</td>\n",
       "      <td>5.727778</td>\n",
       "      <td>0.679451</td>\n",
       "      <td>8.106</td>\n",
       "      <td>2.492450e+04</td>\n",
       "      <td>24924.50</td>\n",
       "    </tr>\n",
       "    <tr>\n",
       "      <th>6437</th>\n",
       "      <td>19</td>\n",
       "      <td>A</td>\n",
       "      <td>13</td>\n",
       "      <td>2010-02-05</td>\n",
       "      <td>38597.52</td>\n",
       "      <td>False</td>\n",
       "      <td>-6.133333</td>\n",
       "      <td>0.780365</td>\n",
       "      <td>8.350</td>\n",
       "      <td>6.352202e+04</td>\n",
       "      <td>38597.52</td>\n",
       "    </tr>\n",
       "    <tr>\n",
       "      <th>1249</th>\n",
       "      <td>2</td>\n",
       "      <td>A</td>\n",
       "      <td>31</td>\n",
       "      <td>2010-02-05</td>\n",
       "      <td>3840.21</td>\n",
       "      <td>False</td>\n",
       "      <td>4.550000</td>\n",
       "      <td>0.679451</td>\n",
       "      <td>8.324</td>\n",
       "      <td>6.736223e+04</td>\n",
       "      <td>38597.52</td>\n",
       "    </tr>\n",
       "    <tr>\n",
       "      <th>6449</th>\n",
       "      <td>19</td>\n",
       "      <td>A</td>\n",
       "      <td>14</td>\n",
       "      <td>2010-02-05</td>\n",
       "      <td>17590.59</td>\n",
       "      <td>False</td>\n",
       "      <td>-6.133333</td>\n",
       "      <td>0.780365</td>\n",
       "      <td>8.350</td>\n",
       "      <td>8.495282e+04</td>\n",
       "      <td>38597.52</td>\n",
       "    </tr>\n",
       "    <tr>\n",
       "      <th>6461</th>\n",
       "      <td>19</td>\n",
       "      <td>A</td>\n",
       "      <td>16</td>\n",
       "      <td>2010-02-05</td>\n",
       "      <td>4929.87</td>\n",
       "      <td>False</td>\n",
       "      <td>-6.133333</td>\n",
       "      <td>0.780365</td>\n",
       "      <td>8.350</td>\n",
       "      <td>8.988269e+04</td>\n",
       "      <td>38597.52</td>\n",
       "    </tr>\n",
       "    <tr>\n",
       "      <th>...</th>\n",
       "      <td>...</td>\n",
       "      <td>...</td>\n",
       "      <td>...</td>\n",
       "      <td>...</td>\n",
       "      <td>...</td>\n",
       "      <td>...</td>\n",
       "      <td>...</td>\n",
       "      <td>...</td>\n",
       "      <td>...</td>\n",
       "      <td>...</td>\n",
       "      <td>...</td>\n",
       "    </tr>\n",
       "    <tr>\n",
       "      <th>3592</th>\n",
       "      <td>6</td>\n",
       "      <td>A</td>\n",
       "      <td>99</td>\n",
       "      <td>2012-10-05</td>\n",
       "      <td>440.00</td>\n",
       "      <td>False</td>\n",
       "      <td>21.577778</td>\n",
       "      <td>0.955511</td>\n",
       "      <td>5.329</td>\n",
       "      <td>2.568932e+08</td>\n",
       "      <td>293966.05</td>\n",
       "    </tr>\n",
       "    <tr>\n",
       "      <th>8108</th>\n",
       "      <td>20</td>\n",
       "      <td>A</td>\n",
       "      <td>99</td>\n",
       "      <td>2012-10-05</td>\n",
       "      <td>660.00</td>\n",
       "      <td>False</td>\n",
       "      <td>15.983333</td>\n",
       "      <td>1.052726</td>\n",
       "      <td>7.293</td>\n",
       "      <td>2.568938e+08</td>\n",
       "      <td>293966.05</td>\n",
       "    </tr>\n",
       "    <tr>\n",
       "      <th>10773</th>\n",
       "      <td>39</td>\n",
       "      <td>A</td>\n",
       "      <td>99</td>\n",
       "      <td>2012-10-05</td>\n",
       "      <td>915.00</td>\n",
       "      <td>False</td>\n",
       "      <td>22.250000</td>\n",
       "      <td>0.955511</td>\n",
       "      <td>6.228</td>\n",
       "      <td>2.568947e+08</td>\n",
       "      <td>293966.05</td>\n",
       "    </tr>\n",
       "    <tr>\n",
       "      <th>6257</th>\n",
       "      <td>14</td>\n",
       "      <td>A</td>\n",
       "      <td>96</td>\n",
       "      <td>2012-10-12</td>\n",
       "      <td>3.00</td>\n",
       "      <td>False</td>\n",
       "      <td>12.483333</td>\n",
       "      <td>1.056689</td>\n",
       "      <td>8.667</td>\n",
       "      <td>2.568947e+08</td>\n",
       "      <td>293966.05</td>\n",
       "    </tr>\n",
       "    <tr>\n",
       "      <th>3384</th>\n",
       "      <td>6</td>\n",
       "      <td>A</td>\n",
       "      <td>77</td>\n",
       "      <td>2012-10-26</td>\n",
       "      <td>-21.63</td>\n",
       "      <td>False</td>\n",
       "      <td>22.411111</td>\n",
       "      <td>0.926188</td>\n",
       "      <td>5.329</td>\n",
       "      <td>2.568947e+08</td>\n",
       "      <td>293966.05</td>\n",
       "    </tr>\n",
       "  </tbody>\n",
       "</table>\n",
       "<p>10774 rows × 11 columns</p>\n",
       "</div>"
      ],
      "text/plain": [
       "       store type  department        date  weekly_sales  is_holiday  \\\n",
       "0          1    A           1  2010-02-05      24924.50       False   \n",
       "6437      19    A          13  2010-02-05      38597.52       False   \n",
       "1249       2    A          31  2010-02-05       3840.21       False   \n",
       "6449      19    A          14  2010-02-05      17590.59       False   \n",
       "6461      19    A          16  2010-02-05       4929.87       False   \n",
       "...      ...  ...         ...         ...           ...         ...   \n",
       "3592       6    A          99  2012-10-05        440.00       False   \n",
       "8108      20    A          99  2012-10-05        660.00       False   \n",
       "10773     39    A          99  2012-10-05        915.00       False   \n",
       "6257      14    A          96  2012-10-12          3.00       False   \n",
       "3384       6    A          77  2012-10-26        -21.63       False   \n",
       "\n",
       "       temperature_c  fuel_price_usd_per_l  unemployment  cum_weekly_sales  \\\n",
       "0           5.727778              0.679451         8.106      2.492450e+04   \n",
       "6437       -6.133333              0.780365         8.350      6.352202e+04   \n",
       "1249        4.550000              0.679451         8.324      6.736223e+04   \n",
       "6449       -6.133333              0.780365         8.350      8.495282e+04   \n",
       "6461       -6.133333              0.780365         8.350      8.988269e+04   \n",
       "...              ...                   ...           ...               ...   \n",
       "3592       21.577778              0.955511         5.329      2.568932e+08   \n",
       "8108       15.983333              1.052726         7.293      2.568938e+08   \n",
       "10773      22.250000              0.955511         6.228      2.568947e+08   \n",
       "6257       12.483333              1.056689         8.667      2.568947e+08   \n",
       "3384       22.411111              0.926188         5.329      2.568947e+08   \n",
       "\n",
       "       cum_max_sales  \n",
       "0           24924.50  \n",
       "6437        38597.52  \n",
       "1249        38597.52  \n",
       "6449        38597.52  \n",
       "6461        38597.52  \n",
       "...              ...  \n",
       "3592       293966.05  \n",
       "8108       293966.05  \n",
       "10773      293966.05  \n",
       "6257       293966.05  \n",
       "3384       293966.05  \n",
       "\n",
       "[10774 rows x 11 columns]"
      ]
     },
     "execution_count": 21,
     "metadata": {},
     "output_type": "execute_result"
    }
   ],
   "source": [
    "sales_1_1[\"cum_max_sales\"] = sales_1_1[\"weekly_sales\"].cummax()\n",
    "sales_1_1"
   ]
  },
  {
   "cell_type": "code",
   "execution_count": 22,
   "id": "940ceb89",
   "metadata": {},
   "outputs": [
    {
     "name": "stdout",
     "output_type": "stream",
     "text": [
      "23843.95014850566 12049.064999999999\n"
     ]
    }
   ],
   "source": [
    "sal_week_mean = sales_data[\"weekly_sales\"].mean()\n",
    "sal_week_median = sales_data[\"weekly_sales\"].median()\n",
    "print(sal_week_mean, sal_week_median)"
   ]
  },
  {
   "cell_type": "code",
   "execution_count": 23,
   "id": "8229b03c",
   "metadata": {},
   "outputs": [
    {
     "name": "stdout",
     "output_type": "stream",
     "text": [
      "2012-10-26 2010-02-05\n"
     ]
    }
   ],
   "source": [
    "sal_max_date = sales_data[\"date\"].max()\n",
    "sal_min_date = sales_data[\"date\"].min()\n",
    "print(sal_max_date, sal_min_date)"
   ]
  },
  {
   "cell_type": "markdown",
   "id": "5204a2ca",
   "metadata": {},
   "source": [
    "# Counting Methode"
   ]
  },
  {
   "cell_type": "markdown",
   "id": "d9cacd67",
   "metadata": {},
   "source": [
    "### Duplikate entfernen"
   ]
  },
  {
   "cell_type": "code",
   "execution_count": 24,
   "id": "c22ded54",
   "metadata": {},
   "outputs": [
    {
     "data": {
      "text/html": [
       "<div>\n",
       "<style scoped>\n",
       "    .dataframe tbody tr th:only-of-type {\n",
       "        vertical-align: middle;\n",
       "    }\n",
       "\n",
       "    .dataframe tbody tr th {\n",
       "        vertical-align: top;\n",
       "    }\n",
       "\n",
       "    .dataframe thead th {\n",
       "        text-align: right;\n",
       "    }\n",
       "</style>\n",
       "<table border=\"1\" class=\"dataframe\">\n",
       "  <thead>\n",
       "    <tr style=\"text-align: right;\">\n",
       "      <th></th>\n",
       "      <th>store</th>\n",
       "      <th>type</th>\n",
       "      <th>department</th>\n",
       "      <th>date</th>\n",
       "      <th>weekly_sales</th>\n",
       "      <th>is_holiday</th>\n",
       "      <th>temperature_c</th>\n",
       "      <th>fuel_price_usd_per_l</th>\n",
       "      <th>unemployment</th>\n",
       "    </tr>\n",
       "  </thead>\n",
       "  <tbody>\n",
       "    <tr>\n",
       "      <th>0</th>\n",
       "      <td>1</td>\n",
       "      <td>A</td>\n",
       "      <td>1</td>\n",
       "      <td>2010-02-05</td>\n",
       "      <td>24924.50</td>\n",
       "      <td>False</td>\n",
       "      <td>5.727778</td>\n",
       "      <td>0.679451</td>\n",
       "      <td>8.106</td>\n",
       "    </tr>\n",
       "    <tr>\n",
       "      <th>1</th>\n",
       "      <td>1</td>\n",
       "      <td>A</td>\n",
       "      <td>1</td>\n",
       "      <td>2010-03-05</td>\n",
       "      <td>21827.90</td>\n",
       "      <td>False</td>\n",
       "      <td>8.055556</td>\n",
       "      <td>0.693452</td>\n",
       "      <td>8.106</td>\n",
       "    </tr>\n",
       "    <tr>\n",
       "      <th>2</th>\n",
       "      <td>1</td>\n",
       "      <td>A</td>\n",
       "      <td>1</td>\n",
       "      <td>2010-04-02</td>\n",
       "      <td>57258.43</td>\n",
       "      <td>False</td>\n",
       "      <td>16.816667</td>\n",
       "      <td>0.718284</td>\n",
       "      <td>7.808</td>\n",
       "    </tr>\n",
       "    <tr>\n",
       "      <th>3</th>\n",
       "      <td>1</td>\n",
       "      <td>A</td>\n",
       "      <td>1</td>\n",
       "      <td>2010-05-07</td>\n",
       "      <td>17413.94</td>\n",
       "      <td>False</td>\n",
       "      <td>22.527778</td>\n",
       "      <td>0.748928</td>\n",
       "      <td>7.808</td>\n",
       "    </tr>\n",
       "    <tr>\n",
       "      <th>4</th>\n",
       "      <td>1</td>\n",
       "      <td>A</td>\n",
       "      <td>1</td>\n",
       "      <td>2010-06-04</td>\n",
       "      <td>17558.09</td>\n",
       "      <td>False</td>\n",
       "      <td>27.050000</td>\n",
       "      <td>0.714586</td>\n",
       "      <td>7.808</td>\n",
       "    </tr>\n",
       "  </tbody>\n",
       "</table>\n",
       "</div>"
      ],
      "text/plain": [
       "   store type  department        date  weekly_sales  is_holiday  \\\n",
       "0      1    A           1  2010-02-05      24924.50       False   \n",
       "1      1    A           1  2010-03-05      21827.90       False   \n",
       "2      1    A           1  2010-04-02      57258.43       False   \n",
       "3      1    A           1  2010-05-07      17413.94       False   \n",
       "4      1    A           1  2010-06-04      17558.09       False   \n",
       "\n",
       "   temperature_c  fuel_price_usd_per_l  unemployment  \n",
       "0       5.727778              0.679451         8.106  \n",
       "1       8.055556              0.693452         8.106  \n",
       "2      16.816667              0.718284         7.808  \n",
       "3      22.527778              0.748928         7.808  \n",
       "4      27.050000              0.714586         7.808  "
      ]
     },
     "execution_count": 24,
     "metadata": {},
     "output_type": "execute_result"
    }
   ],
   "source": [
    "sales_data.head()"
   ]
  },
  {
   "cell_type": "code",
   "execution_count": 25,
   "id": "00cb2990",
   "metadata": {},
   "outputs": [
    {
     "data": {
      "text/html": [
       "<div>\n",
       "<style scoped>\n",
       "    .dataframe tbody tr th:only-of-type {\n",
       "        vertical-align: middle;\n",
       "    }\n",
       "\n",
       "    .dataframe tbody tr th {\n",
       "        vertical-align: top;\n",
       "    }\n",
       "\n",
       "    .dataframe thead th {\n",
       "        text-align: right;\n",
       "    }\n",
       "</style>\n",
       "<table border=\"1\" class=\"dataframe\">\n",
       "  <thead>\n",
       "    <tr style=\"text-align: right;\">\n",
       "      <th></th>\n",
       "      <th>store</th>\n",
       "      <th>type</th>\n",
       "      <th>department</th>\n",
       "      <th>date</th>\n",
       "      <th>weekly_sales</th>\n",
       "      <th>is_holiday</th>\n",
       "      <th>temperature_c</th>\n",
       "      <th>fuel_price_usd_per_l</th>\n",
       "      <th>unemployment</th>\n",
       "    </tr>\n",
       "  </thead>\n",
       "  <tbody>\n",
       "    <tr>\n",
       "      <th>0</th>\n",
       "      <td>1</td>\n",
       "      <td>A</td>\n",
       "      <td>1</td>\n",
       "      <td>2010-02-05</td>\n",
       "      <td>24924.50</td>\n",
       "      <td>False</td>\n",
       "      <td>5.727778</td>\n",
       "      <td>0.679451</td>\n",
       "      <td>8.106</td>\n",
       "    </tr>\n",
       "    <tr>\n",
       "      <th>12</th>\n",
       "      <td>1</td>\n",
       "      <td>A</td>\n",
       "      <td>2</td>\n",
       "      <td>2010-02-05</td>\n",
       "      <td>50605.27</td>\n",
       "      <td>False</td>\n",
       "      <td>5.727778</td>\n",
       "      <td>0.679451</td>\n",
       "      <td>8.106</td>\n",
       "    </tr>\n",
       "    <tr>\n",
       "      <th>24</th>\n",
       "      <td>1</td>\n",
       "      <td>A</td>\n",
       "      <td>3</td>\n",
       "      <td>2010-02-05</td>\n",
       "      <td>13740.12</td>\n",
       "      <td>False</td>\n",
       "      <td>5.727778</td>\n",
       "      <td>0.679451</td>\n",
       "      <td>8.106</td>\n",
       "    </tr>\n",
       "    <tr>\n",
       "      <th>36</th>\n",
       "      <td>1</td>\n",
       "      <td>A</td>\n",
       "      <td>4</td>\n",
       "      <td>2010-02-05</td>\n",
       "      <td>39954.04</td>\n",
       "      <td>False</td>\n",
       "      <td>5.727778</td>\n",
       "      <td>0.679451</td>\n",
       "      <td>8.106</td>\n",
       "    </tr>\n",
       "    <tr>\n",
       "      <th>48</th>\n",
       "      <td>1</td>\n",
       "      <td>A</td>\n",
       "      <td>5</td>\n",
       "      <td>2010-02-05</td>\n",
       "      <td>32229.38</td>\n",
       "      <td>False</td>\n",
       "      <td>5.727778</td>\n",
       "      <td>0.679451</td>\n",
       "      <td>8.106</td>\n",
       "    </tr>\n",
       "    <tr>\n",
       "      <th>...</th>\n",
       "      <td>...</td>\n",
       "      <td>...</td>\n",
       "      <td>...</td>\n",
       "      <td>...</td>\n",
       "      <td>...</td>\n",
       "      <td>...</td>\n",
       "      <td>...</td>\n",
       "      <td>...</td>\n",
       "      <td>...</td>\n",
       "    </tr>\n",
       "    <tr>\n",
       "      <th>10715</th>\n",
       "      <td>39</td>\n",
       "      <td>A</td>\n",
       "      <td>95</td>\n",
       "      <td>2010-02-05</td>\n",
       "      <td>88385.24</td>\n",
       "      <td>False</td>\n",
       "      <td>6.833333</td>\n",
       "      <td>0.679451</td>\n",
       "      <td>8.554</td>\n",
       "    </tr>\n",
       "    <tr>\n",
       "      <th>10727</th>\n",
       "      <td>39</td>\n",
       "      <td>A</td>\n",
       "      <td>96</td>\n",
       "      <td>2010-02-05</td>\n",
       "      <td>21450.05</td>\n",
       "      <td>False</td>\n",
       "      <td>6.833333</td>\n",
       "      <td>0.679451</td>\n",
       "      <td>8.554</td>\n",
       "    </tr>\n",
       "    <tr>\n",
       "      <th>10739</th>\n",
       "      <td>39</td>\n",
       "      <td>A</td>\n",
       "      <td>97</td>\n",
       "      <td>2010-02-05</td>\n",
       "      <td>21162.05</td>\n",
       "      <td>False</td>\n",
       "      <td>6.833333</td>\n",
       "      <td>0.679451</td>\n",
       "      <td>8.554</td>\n",
       "    </tr>\n",
       "    <tr>\n",
       "      <th>10751</th>\n",
       "      <td>39</td>\n",
       "      <td>A</td>\n",
       "      <td>98</td>\n",
       "      <td>2010-02-05</td>\n",
       "      <td>9023.09</td>\n",
       "      <td>False</td>\n",
       "      <td>6.833333</td>\n",
       "      <td>0.679451</td>\n",
       "      <td>8.554</td>\n",
       "    </tr>\n",
       "    <tr>\n",
       "      <th>10763</th>\n",
       "      <td>39</td>\n",
       "      <td>A</td>\n",
       "      <td>99</td>\n",
       "      <td>2010-03-05</td>\n",
       "      <td>0.01</td>\n",
       "      <td>False</td>\n",
       "      <td>10.516667</td>\n",
       "      <td>0.693452</td>\n",
       "      <td>8.554</td>\n",
       "    </tr>\n",
       "  </tbody>\n",
       "</table>\n",
       "<p>929 rows × 9 columns</p>\n",
       "</div>"
      ],
      "text/plain": [
       "       store type  department        date  weekly_sales  is_holiday  \\\n",
       "0          1    A           1  2010-02-05      24924.50       False   \n",
       "12         1    A           2  2010-02-05      50605.27       False   \n",
       "24         1    A           3  2010-02-05      13740.12       False   \n",
       "36         1    A           4  2010-02-05      39954.04       False   \n",
       "48         1    A           5  2010-02-05      32229.38       False   \n",
       "...      ...  ...         ...         ...           ...         ...   \n",
       "10715     39    A          95  2010-02-05      88385.24       False   \n",
       "10727     39    A          96  2010-02-05      21450.05       False   \n",
       "10739     39    A          97  2010-02-05      21162.05       False   \n",
       "10751     39    A          98  2010-02-05       9023.09       False   \n",
       "10763     39    A          99  2010-03-05          0.01       False   \n",
       "\n",
       "       temperature_c  fuel_price_usd_per_l  unemployment  \n",
       "0           5.727778              0.679451         8.106  \n",
       "12          5.727778              0.679451         8.106  \n",
       "24          5.727778              0.679451         8.106  \n",
       "36          5.727778              0.679451         8.106  \n",
       "48          5.727778              0.679451         8.106  \n",
       "...              ...                   ...           ...  \n",
       "10715       6.833333              0.679451         8.554  \n",
       "10727       6.833333              0.679451         8.554  \n",
       "10739       6.833333              0.679451         8.554  \n",
       "10751       6.833333              0.679451         8.554  \n",
       "10763      10.516667              0.693452         8.554  \n",
       "\n",
       "[929 rows x 9 columns]"
      ]
     },
     "execution_count": 25,
     "metadata": {},
     "output_type": "execute_result"
    }
   ],
   "source": [
    "unique_store_dept = sales_data.drop_duplicates(subset=[\"store\", \"department\"])\n",
    "unique_store_dept"
   ]
  },
  {
   "cell_type": "code",
   "execution_count": 26,
   "id": "d8872f9a",
   "metadata": {},
   "outputs": [
    {
     "data": {
      "text/html": [
       "<div>\n",
       "<style scoped>\n",
       "    .dataframe tbody tr th:only-of-type {\n",
       "        vertical-align: middle;\n",
       "    }\n",
       "\n",
       "    .dataframe tbody tr th {\n",
       "        vertical-align: top;\n",
       "    }\n",
       "\n",
       "    .dataframe thead th {\n",
       "        text-align: right;\n",
       "    }\n",
       "</style>\n",
       "<table border=\"1\" class=\"dataframe\">\n",
       "  <thead>\n",
       "    <tr style=\"text-align: right;\">\n",
       "      <th></th>\n",
       "      <th>store</th>\n",
       "      <th>type</th>\n",
       "      <th>department</th>\n",
       "      <th>date</th>\n",
       "      <th>weekly_sales</th>\n",
       "      <th>is_holiday</th>\n",
       "      <th>temperature_c</th>\n",
       "      <th>fuel_price_usd_per_l</th>\n",
       "      <th>unemployment</th>\n",
       "    </tr>\n",
       "  </thead>\n",
       "  <tbody>\n",
       "    <tr>\n",
       "      <th>0</th>\n",
       "      <td>1</td>\n",
       "      <td>A</td>\n",
       "      <td>1</td>\n",
       "      <td>2010-02-05</td>\n",
       "      <td>24924.50</td>\n",
       "      <td>False</td>\n",
       "      <td>5.727778</td>\n",
       "      <td>0.679451</td>\n",
       "      <td>8.106</td>\n",
       "    </tr>\n",
       "    <tr>\n",
       "      <th>3593</th>\n",
       "      <td>10</td>\n",
       "      <td>B</td>\n",
       "      <td>1</td>\n",
       "      <td>2010-02-05</td>\n",
       "      <td>40212.84</td>\n",
       "      <td>False</td>\n",
       "      <td>12.411111</td>\n",
       "      <td>0.782478</td>\n",
       "      <td>9.765</td>\n",
       "    </tr>\n",
       "  </tbody>\n",
       "</table>\n",
       "</div>"
      ],
      "text/plain": [
       "      store type  department        date  weekly_sales  is_holiday  \\\n",
       "0         1    A           1  2010-02-05      24924.50       False   \n",
       "3593     10    B           1  2010-02-05      40212.84       False   \n",
       "\n",
       "      temperature_c  fuel_price_usd_per_l  unemployment  \n",
       "0          5.727778              0.679451         8.106  \n",
       "3593      12.411111              0.782478         9.765  "
      ]
     },
     "execution_count": 26,
     "metadata": {},
     "output_type": "execute_result"
    }
   ],
   "source": [
    "unique_type = sales_data.drop_duplicates(subset=\"type\")\n",
    "unique_type"
   ]
  },
  {
   "cell_type": "code",
   "execution_count": 27,
   "id": "9d67d94a",
   "metadata": {},
   "outputs": [
    {
     "data": {
      "text/html": [
       "<div>\n",
       "<style scoped>\n",
       "    .dataframe tbody tr th:only-of-type {\n",
       "        vertical-align: middle;\n",
       "    }\n",
       "\n",
       "    .dataframe tbody tr th {\n",
       "        vertical-align: top;\n",
       "    }\n",
       "\n",
       "    .dataframe thead th {\n",
       "        text-align: right;\n",
       "    }\n",
       "</style>\n",
       "<table border=\"1\" class=\"dataframe\">\n",
       "  <thead>\n",
       "    <tr style=\"text-align: right;\">\n",
       "      <th></th>\n",
       "      <th>store</th>\n",
       "      <th>type</th>\n",
       "      <th>department</th>\n",
       "      <th>date</th>\n",
       "      <th>weekly_sales</th>\n",
       "      <th>is_holiday</th>\n",
       "      <th>temperature_c</th>\n",
       "      <th>fuel_price_usd_per_l</th>\n",
       "      <th>unemployment</th>\n",
       "    </tr>\n",
       "  </thead>\n",
       "  <tbody>\n",
       "    <tr>\n",
       "      <th>4471</th>\n",
       "      <td>10</td>\n",
       "      <td>B</td>\n",
       "      <td>97</td>\n",
       "      <td>2010-02-05</td>\n",
       "      <td>6242.07</td>\n",
       "      <td>False</td>\n",
       "      <td>12.411111</td>\n",
       "      <td>0.782478</td>\n",
       "      <td>9.765</td>\n",
       "    </tr>\n",
       "    <tr>\n",
       "      <th>4483</th>\n",
       "      <td>10</td>\n",
       "      <td>B</td>\n",
       "      <td>98</td>\n",
       "      <td>2010-02-05</td>\n",
       "      <td>74.00</td>\n",
       "      <td>False</td>\n",
       "      <td>12.411111</td>\n",
       "      <td>0.782478</td>\n",
       "      <td>9.765</td>\n",
       "    </tr>\n",
       "    <tr>\n",
       "      <th>4975</th>\n",
       "      <td>13</td>\n",
       "      <td>A</td>\n",
       "      <td>43</td>\n",
       "      <td>2011-12-02</td>\n",
       "      <td>1.07</td>\n",
       "      <td>False</td>\n",
       "      <td>1.077778</td>\n",
       "      <td>0.895280</td>\n",
       "      <td>6.392</td>\n",
       "    </tr>\n",
       "    <tr>\n",
       "      <th>5041</th>\n",
       "      <td>13</td>\n",
       "      <td>A</td>\n",
       "      <td>50</td>\n",
       "      <td>2010-02-05</td>\n",
       "      <td>2945.00</td>\n",
       "      <td>False</td>\n",
       "      <td>-0.261111</td>\n",
       "      <td>0.704283</td>\n",
       "      <td>8.316</td>\n",
       "    </tr>\n",
       "  </tbody>\n",
       "</table>\n",
       "</div>"
      ],
      "text/plain": [
       "      store type  department        date  weekly_sales  is_holiday  \\\n",
       "4471     10    B          97  2010-02-05       6242.07       False   \n",
       "4483     10    B          98  2010-02-05         74.00       False   \n",
       "4975     13    A          43  2011-12-02          1.07       False   \n",
       "5041     13    A          50  2010-02-05       2945.00       False   \n",
       "\n",
       "      temperature_c  fuel_price_usd_per_l  unemployment  \n",
       "4471      12.411111              0.782478         9.765  \n",
       "4483      12.411111              0.782478         9.765  \n",
       "4975       1.077778              0.895280         6.392  \n",
       "5041      -0.261111              0.704283         8.316  "
      ]
     },
     "execution_count": 27,
     "metadata": {},
     "output_type": "execute_result"
    }
   ],
   "source": [
    "unique_type_and_department = sales_data.drop_duplicates(subset=[\"type\",\"department\"])\n",
    "unique_type_and_department.head(2)\n",
    "unique_type_and_department.tail(4)"
   ]
  },
  {
   "cell_type": "code",
   "execution_count": 28,
   "id": "c75f9aa8",
   "metadata": {},
   "outputs": [
    {
     "data": {
      "text/plain": [
       "A    80\n",
       "B    77\n",
       "Name: type, dtype: int64"
      ]
     },
     "execution_count": 28,
     "metadata": {},
     "output_type": "execute_result"
    }
   ],
   "source": [
    "unique_type_and_department[\"type\"].value_counts()\n",
    "# Wie oft nach typ gezaehlt wurde."
   ]
  },
  {
   "cell_type": "code",
   "execution_count": 29,
   "id": "7754e47d",
   "metadata": {},
   "outputs": [
    {
     "data": {
      "text/plain": [
       "A    80\n",
       "B    77\n",
       "Name: type, dtype: int64"
      ]
     },
     "execution_count": 29,
     "metadata": {},
     "output_type": "execute_result"
    }
   ],
   "source": [
    "unique_type_and_department[\"type\"].value_counts(sort=True)\n",
    "# Sortierung mit Ascending"
   ]
  },
  {
   "cell_type": "code",
   "execution_count": 30,
   "id": "4b7f5320",
   "metadata": {},
   "outputs": [
    {
     "data": {
      "text/plain": [
       "A    0.509554\n",
       "B    0.490446\n",
       "Name: type, dtype: float64"
      ]
     },
     "execution_count": 30,
     "metadata": {},
     "output_type": "execute_result"
    }
   ],
   "source": [
    "unique_type_and_department[\"type\"].value_counts(normalize=True)\n",
    "# Proportional (In Relativen Anteilen)\n",
    "# 50.9 % sind Typ A."
   ]
  },
  {
   "cell_type": "code",
   "execution_count": 31,
   "id": "35e5cbe2",
   "metadata": {},
   "outputs": [
    {
     "data": {
      "text/html": [
       "<div>\n",
       "<style scoped>\n",
       "    .dataframe tbody tr th:only-of-type {\n",
       "        vertical-align: middle;\n",
       "    }\n",
       "\n",
       "    .dataframe tbody tr th {\n",
       "        vertical-align: top;\n",
       "    }\n",
       "\n",
       "    .dataframe thead th {\n",
       "        text-align: right;\n",
       "    }\n",
       "</style>\n",
       "<table border=\"1\" class=\"dataframe\">\n",
       "  <thead>\n",
       "    <tr style=\"text-align: right;\">\n",
       "      <th></th>\n",
       "      <th>store</th>\n",
       "      <th>type</th>\n",
       "      <th>department</th>\n",
       "      <th>date</th>\n",
       "      <th>weekly_sales</th>\n",
       "      <th>is_holiday</th>\n",
       "      <th>temperature_c</th>\n",
       "      <th>fuel_price_usd_per_l</th>\n",
       "      <th>unemployment</th>\n",
       "    </tr>\n",
       "  </thead>\n",
       "  <tbody>\n",
       "    <tr>\n",
       "      <th>498</th>\n",
       "      <td>1</td>\n",
       "      <td>A</td>\n",
       "      <td>45</td>\n",
       "      <td>2010-09-10</td>\n",
       "      <td>11.47</td>\n",
       "      <td>True</td>\n",
       "      <td>25.938889</td>\n",
       "      <td>0.677602</td>\n",
       "      <td>7.787</td>\n",
       "    </tr>\n",
       "    <tr>\n",
       "      <th>691</th>\n",
       "      <td>1</td>\n",
       "      <td>A</td>\n",
       "      <td>77</td>\n",
       "      <td>2011-11-25</td>\n",
       "      <td>1431.00</td>\n",
       "      <td>True</td>\n",
       "      <td>15.633333</td>\n",
       "      <td>0.854861</td>\n",
       "      <td>7.866</td>\n",
       "    </tr>\n",
       "    <tr>\n",
       "      <th>2315</th>\n",
       "      <td>4</td>\n",
       "      <td>A</td>\n",
       "      <td>47</td>\n",
       "      <td>2010-02-12</td>\n",
       "      <td>498.00</td>\n",
       "      <td>True</td>\n",
       "      <td>-1.755556</td>\n",
       "      <td>0.679715</td>\n",
       "      <td>8.623</td>\n",
       "    </tr>\n",
       "    <tr>\n",
       "      <th>6735</th>\n",
       "      <td>19</td>\n",
       "      <td>A</td>\n",
       "      <td>39</td>\n",
       "      <td>2012-09-07</td>\n",
       "      <td>13.41</td>\n",
       "      <td>True</td>\n",
       "      <td>22.333333</td>\n",
       "      <td>1.076766</td>\n",
       "      <td>8.193</td>\n",
       "    </tr>\n",
       "    <tr>\n",
       "      <th>6810</th>\n",
       "      <td>19</td>\n",
       "      <td>A</td>\n",
       "      <td>47</td>\n",
       "      <td>2010-12-31</td>\n",
       "      <td>-449.00</td>\n",
       "      <td>True</td>\n",
       "      <td>-1.861111</td>\n",
       "      <td>0.881278</td>\n",
       "      <td>8.067</td>\n",
       "    </tr>\n",
       "    <tr>\n",
       "      <th>6815</th>\n",
       "      <td>19</td>\n",
       "      <td>A</td>\n",
       "      <td>47</td>\n",
       "      <td>2012-02-10</td>\n",
       "      <td>15.00</td>\n",
       "      <td>True</td>\n",
       "      <td>0.338889</td>\n",
       "      <td>1.010723</td>\n",
       "      <td>7.943</td>\n",
       "    </tr>\n",
       "    <tr>\n",
       "      <th>6820</th>\n",
       "      <td>19</td>\n",
       "      <td>A</td>\n",
       "      <td>48</td>\n",
       "      <td>2011-09-09</td>\n",
       "      <td>197.00</td>\n",
       "      <td>True</td>\n",
       "      <td>20.155556</td>\n",
       "      <td>1.038197</td>\n",
       "      <td>7.806</td>\n",
       "    </tr>\n",
       "  </tbody>\n",
       "</table>\n",
       "</div>"
      ],
      "text/plain": [
       "      store type  department        date  weekly_sales  is_holiday  \\\n",
       "498       1    A          45  2010-09-10         11.47        True   \n",
       "691       1    A          77  2011-11-25       1431.00        True   \n",
       "2315      4    A          47  2010-02-12        498.00        True   \n",
       "6735     19    A          39  2012-09-07         13.41        True   \n",
       "6810     19    A          47  2010-12-31       -449.00        True   \n",
       "6815     19    A          47  2012-02-10         15.00        True   \n",
       "6820     19    A          48  2011-09-09        197.00        True   \n",
       "\n",
       "      temperature_c  fuel_price_usd_per_l  unemployment  \n",
       "498       25.938889              0.677602         7.787  \n",
       "691       15.633333              0.854861         7.866  \n",
       "2315      -1.755556              0.679715         8.623  \n",
       "6735      22.333333              1.076766         8.193  \n",
       "6810      -1.861111              0.881278         8.067  \n",
       "6815       0.338889              1.010723         7.943  \n",
       "6820      20.155556              1.038197         7.806  "
      ]
     },
     "execution_count": 31,
     "metadata": {},
     "output_type": "execute_result"
    }
   ],
   "source": [
    "holiday_dates = sales_data[sales_data[\"is_holiday\"]].drop_duplicates(\"date\")\n",
    "holiday_dates"
   ]
  },
  {
   "cell_type": "code",
   "execution_count": 32,
   "id": "ef7bb47e",
   "metadata": {},
   "outputs": [
    {
     "data": {
      "text/plain": [
       "0        2010-02-05\n",
       "1        2010-03-05\n",
       "2        2010-04-02\n",
       "3        2010-05-07\n",
       "4        2010-06-04\n",
       "            ...    \n",
       "10769    2011-12-09\n",
       "10770    2012-02-03\n",
       "10771    2012-06-08\n",
       "10772    2012-07-13\n",
       "10773    2012-10-05\n",
       "Name: date, Length: 10774, dtype: object"
      ]
     },
     "execution_count": 32,
     "metadata": {},
     "output_type": "execute_result"
    }
   ],
   "source": [
    "sales_data[\"date\"]"
   ]
  },
  {
   "cell_type": "markdown",
   "id": "ec959581",
   "metadata": {},
   "source": [
    "# Grouping"
   ]
  },
  {
   "cell_type": "code",
   "execution_count": 33,
   "id": "ba051d35",
   "metadata": {},
   "outputs": [
    {
     "data": {
      "text/html": [
       "<div>\n",
       "<style scoped>\n",
       "    .dataframe tbody tr th:only-of-type {\n",
       "        vertical-align: middle;\n",
       "    }\n",
       "\n",
       "    .dataframe tbody tr th {\n",
       "        vertical-align: top;\n",
       "    }\n",
       "\n",
       "    .dataframe thead th {\n",
       "        text-align: right;\n",
       "    }\n",
       "</style>\n",
       "<table border=\"1\" class=\"dataframe\">\n",
       "  <thead>\n",
       "    <tr style=\"text-align: right;\">\n",
       "      <th></th>\n",
       "      <th>store</th>\n",
       "      <th>type</th>\n",
       "      <th>department</th>\n",
       "      <th>date</th>\n",
       "      <th>weekly_sales</th>\n",
       "      <th>is_holiday</th>\n",
       "      <th>temperature_c</th>\n",
       "      <th>fuel_price_usd_per_l</th>\n",
       "      <th>unemployment</th>\n",
       "    </tr>\n",
       "  </thead>\n",
       "  <tbody>\n",
       "    <tr>\n",
       "      <th>0</th>\n",
       "      <td>1</td>\n",
       "      <td>A</td>\n",
       "      <td>1</td>\n",
       "      <td>2010-02-05</td>\n",
       "      <td>24924.50</td>\n",
       "      <td>False</td>\n",
       "      <td>5.727778</td>\n",
       "      <td>0.679451</td>\n",
       "      <td>8.106</td>\n",
       "    </tr>\n",
       "    <tr>\n",
       "      <th>1</th>\n",
       "      <td>1</td>\n",
       "      <td>A</td>\n",
       "      <td>1</td>\n",
       "      <td>2010-03-05</td>\n",
       "      <td>21827.90</td>\n",
       "      <td>False</td>\n",
       "      <td>8.055556</td>\n",
       "      <td>0.693452</td>\n",
       "      <td>8.106</td>\n",
       "    </tr>\n",
       "    <tr>\n",
       "      <th>2</th>\n",
       "      <td>1</td>\n",
       "      <td>A</td>\n",
       "      <td>1</td>\n",
       "      <td>2010-04-02</td>\n",
       "      <td>57258.43</td>\n",
       "      <td>False</td>\n",
       "      <td>16.816667</td>\n",
       "      <td>0.718284</td>\n",
       "      <td>7.808</td>\n",
       "    </tr>\n",
       "    <tr>\n",
       "      <th>3</th>\n",
       "      <td>1</td>\n",
       "      <td>A</td>\n",
       "      <td>1</td>\n",
       "      <td>2010-05-07</td>\n",
       "      <td>17413.94</td>\n",
       "      <td>False</td>\n",
       "      <td>22.527778</td>\n",
       "      <td>0.748928</td>\n",
       "      <td>7.808</td>\n",
       "    </tr>\n",
       "    <tr>\n",
       "      <th>4</th>\n",
       "      <td>1</td>\n",
       "      <td>A</td>\n",
       "      <td>1</td>\n",
       "      <td>2010-06-04</td>\n",
       "      <td>17558.09</td>\n",
       "      <td>False</td>\n",
       "      <td>27.050000</td>\n",
       "      <td>0.714586</td>\n",
       "      <td>7.808</td>\n",
       "    </tr>\n",
       "  </tbody>\n",
       "</table>\n",
       "</div>"
      ],
      "text/plain": [
       "   store type  department        date  weekly_sales  is_holiday  \\\n",
       "0      1    A           1  2010-02-05      24924.50       False   \n",
       "1      1    A           1  2010-03-05      21827.90       False   \n",
       "2      1    A           1  2010-04-02      57258.43       False   \n",
       "3      1    A           1  2010-05-07      17413.94       False   \n",
       "4      1    A           1  2010-06-04      17558.09       False   \n",
       "\n",
       "   temperature_c  fuel_price_usd_per_l  unemployment  \n",
       "0       5.727778              0.679451         8.106  \n",
       "1       8.055556              0.693452         8.106  \n",
       "2      16.816667              0.718284         7.808  \n",
       "3      22.527778              0.748928         7.808  \n",
       "4      27.050000              0.714586         7.808  "
      ]
     },
     "execution_count": 33,
     "metadata": {},
     "output_type": "execute_result"
    }
   ],
   "source": [
    "sales = pd.read_csv(\"sales_subset.csv\", index_col=\"Unnamed: 0\")\n",
    "sales.head()"
   ]
  },
  {
   "cell_type": "code",
   "execution_count": 34,
   "id": "7c17bd64",
   "metadata": {},
   "outputs": [
    {
     "data": {
      "text/plain": [
       "256894718.89999998"
      ]
     },
     "execution_count": 34,
     "metadata": {},
     "output_type": "execute_result"
    }
   ],
   "source": [
    "# Calc total weekly sales\n",
    "sales_all = sales[\"weekly_sales\"].sum()\n",
    "sales_all"
   ]
  },
  {
   "cell_type": "code",
   "execution_count": 35,
   "id": "a3d507ec",
   "metadata": {},
   "outputs": [
    {
     "data": {
      "text/plain": [
       "233716315.01"
      ]
     },
     "execution_count": 35,
     "metadata": {},
     "output_type": "execute_result"
    }
   ],
   "source": [
    "# Subset for type A stores, calc total weekly sales\n",
    "sales_A = sales[sales[\"type\"] == \"A\"][\"weekly_sales\"].sum()\n",
    "sales_A"
   ]
  },
  {
   "cell_type": "code",
   "execution_count": 36,
   "id": "4f767335",
   "metadata": {},
   "outputs": [
    {
     "data": {
      "text/plain": [
       "23178403.89"
      ]
     },
     "execution_count": 36,
     "metadata": {},
     "output_type": "execute_result"
    }
   ],
   "source": [
    "# Subset for type B stores, calc total weekly sales\n",
    "sales_B = sales[sales[\"type\"]== \"B\"][\"weekly_sales\"].sum()\n",
    "sales_B"
   ]
  },
  {
   "cell_type": "code",
   "execution_count": 37,
   "id": "79d5d470",
   "metadata": {},
   "outputs": [
    {
     "data": {
      "text/plain": [
       "0.0"
      ]
     },
     "execution_count": 37,
     "metadata": {},
     "output_type": "execute_result"
    }
   ],
   "source": [
    "# Subset for type C stores, calc total weekly sales\n",
    "sales_C = sales[sales[\"type\"]== \"C\"][\"weekly_sales\"].sum()\n",
    "sales_C"
   ]
  },
  {
   "cell_type": "code",
   "execution_count": 38,
   "id": "2c894b2f",
   "metadata": {},
   "outputs": [
    {
     "name": "stdout",
     "output_type": "stream",
     "text": [
      "[0.9097747 0.0902253 0.       ]\n"
     ]
    }
   ],
   "source": [
    "# Get proportion for each type\n",
    "sales_propn_by_type = [sales_A, sales_B, sales_C] / sales_all\n",
    "print(sales_propn_by_type)"
   ]
  },
  {
   "cell_type": "code",
   "execution_count": 39,
   "id": "a603d71e",
   "metadata": {},
   "outputs": [
    {
     "data": {
      "text/plain": [
       "type\n",
       "A    2.337163e+08\n",
       "B    2.317840e+07\n",
       "Name: weekly_sales, dtype: float64"
      ]
     },
     "execution_count": 39,
     "metadata": {},
     "output_type": "execute_result"
    }
   ],
   "source": [
    "# Group by type; calc total weekly sales\n",
    "sales_by_type = sales.groupby(\"type\")[\"weekly_sales\"].sum()\n",
    "sales_by_type"
   ]
  },
  {
   "cell_type": "code",
   "execution_count": 40,
   "id": "dc5c6175",
   "metadata": {},
   "outputs": [
    {
     "name": "stdout",
     "output_type": "stream",
     "text": [
      "type\n",
      "A    0.909775\n",
      "B    0.090225\n",
      "Name: weekly_sales, dtype: float64\n"
     ]
    }
   ],
   "source": [
    "# Get proportion for each type\n",
    "sales_propn_by_type = sales_by_type / sum(sales_by_type)\n",
    "print(sales_propn_by_type)"
   ]
  },
  {
   "cell_type": "code",
   "execution_count": 41,
   "id": "967e22e1",
   "metadata": {},
   "outputs": [
    {
     "name": "stdout",
     "output_type": "stream",
     "text": [
      "type  is_holiday\n",
      "A     False         2.336927e+08\n",
      "      True          2.360181e+04\n",
      "B     False         2.317678e+07\n",
      "      True          1.621410e+03\n",
      "Name: weekly_sales, dtype: float64\n"
     ]
    }
   ],
   "source": [
    "# Group by type and is_holiday; calc total weekly sales\n",
    "sales_by_type_is_holiday = sales.groupby([\"type\",\"is_holiday\"])[\"weekly_sales\"].sum()\n",
    "print(sales_by_type_is_holiday)"
   ]
  },
  {
   "cell_type": "code",
   "execution_count": 42,
   "id": "93094427",
   "metadata": {},
   "outputs": [
    {
     "name": "stdout",
     "output_type": "stream",
     "text": [
      "                 weekly_sales  fuel_price_usd_per_l\n",
      "type is_holiday                                    \n",
      "A    False       2.336927e+08           7318.270676\n",
      "     True        2.360181e+04             32.606772\n",
      "B    False       2.317678e+07            725.108773\n",
      "     True        1.621410e+03              1.775501\n"
     ]
    }
   ],
   "source": [
    "# Group by type and is_holiday; calc total weekly sales\n",
    "sales_by_type_is_holiday2 = sales.groupby([\"type\",\"is_holiday\"])[[\"weekly_sales\",\"fuel_price_usd_per_l\"]].sum()\n",
    "print(sales_by_type_is_holiday2)"
   ]
  },
  {
   "cell_type": "code",
   "execution_count": 43,
   "id": "d736f032",
   "metadata": {},
   "outputs": [
    {
     "data": {
      "text/html": [
       "<div>\n",
       "<style scoped>\n",
       "    .dataframe tbody tr th:only-of-type {\n",
       "        vertical-align: middle;\n",
       "    }\n",
       "\n",
       "    .dataframe tbody tr th {\n",
       "        vertical-align: top;\n",
       "    }\n",
       "\n",
       "    .dataframe thead th {\n",
       "        text-align: right;\n",
       "    }\n",
       "</style>\n",
       "<table border=\"1\" class=\"dataframe\">\n",
       "  <thead>\n",
       "    <tr style=\"text-align: right;\">\n",
       "      <th></th>\n",
       "      <th>amin</th>\n",
       "      <th>amax</th>\n",
       "      <th>mean</th>\n",
       "      <th>median</th>\n",
       "    </tr>\n",
       "    <tr>\n",
       "      <th>type</th>\n",
       "      <th></th>\n",
       "      <th></th>\n",
       "      <th></th>\n",
       "      <th></th>\n",
       "    </tr>\n",
       "  </thead>\n",
       "  <tbody>\n",
       "    <tr>\n",
       "      <th>A</th>\n",
       "      <td>-1098.0</td>\n",
       "      <td>293966.05</td>\n",
       "      <td>23674.667242</td>\n",
       "      <td>11943.92</td>\n",
       "    </tr>\n",
       "    <tr>\n",
       "      <th>B</th>\n",
       "      <td>-798.0</td>\n",
       "      <td>232558.51</td>\n",
       "      <td>25696.678370</td>\n",
       "      <td>13336.08</td>\n",
       "    </tr>\n",
       "  </tbody>\n",
       "</table>\n",
       "</div>"
      ],
      "text/plain": [
       "        amin       amax          mean    median\n",
       "type                                           \n",
       "A    -1098.0  293966.05  23674.667242  11943.92\n",
       "B     -798.0  232558.51  25696.678370  13336.08"
      ]
     },
     "execution_count": 43,
     "metadata": {},
     "output_type": "execute_result"
    }
   ],
   "source": [
    "# Import numpy with the alias np\n",
    "import numpy as np\n",
    "\n",
    "# For each store type, aggregate weekly_sales: get min, max, mean, and median\n",
    "sales_stats = sales.groupby(\"type\")[\"weekly_sales\"].agg([np.min, np.max, np.mean, np.median])\n",
    "sales_stats"
   ]
  },
  {
   "cell_type": "code",
   "execution_count": 44,
   "id": "93622b12",
   "metadata": {},
   "outputs": [
    {
     "data": {
      "text/html": [
       "<div>\n",
       "<style scoped>\n",
       "    .dataframe tbody tr th:only-of-type {\n",
       "        vertical-align: middle;\n",
       "    }\n",
       "\n",
       "    .dataframe tbody tr th {\n",
       "        vertical-align: top;\n",
       "    }\n",
       "\n",
       "    .dataframe thead tr th {\n",
       "        text-align: left;\n",
       "    }\n",
       "\n",
       "    .dataframe thead tr:last-of-type th {\n",
       "        text-align: right;\n",
       "    }\n",
       "</style>\n",
       "<table border=\"1\" class=\"dataframe\">\n",
       "  <thead>\n",
       "    <tr>\n",
       "      <th></th>\n",
       "      <th colspan=\"4\" halign=\"left\">unemployment</th>\n",
       "      <th colspan=\"4\" halign=\"left\">fuel_price_usd_per_l</th>\n",
       "    </tr>\n",
       "    <tr>\n",
       "      <th></th>\n",
       "      <th>min</th>\n",
       "      <th>max</th>\n",
       "      <th>mean</th>\n",
       "      <th>median</th>\n",
       "      <th>min</th>\n",
       "      <th>max</th>\n",
       "      <th>mean</th>\n",
       "      <th>median</th>\n",
       "    </tr>\n",
       "    <tr>\n",
       "      <th>type</th>\n",
       "      <th></th>\n",
       "      <th></th>\n",
       "      <th></th>\n",
       "      <th></th>\n",
       "      <th></th>\n",
       "      <th></th>\n",
       "      <th></th>\n",
       "      <th></th>\n",
       "    </tr>\n",
       "  </thead>\n",
       "  <tbody>\n",
       "    <tr>\n",
       "      <th>A</th>\n",
       "      <td>3.879</td>\n",
       "      <td>8.992</td>\n",
       "      <td>7.972611</td>\n",
       "      <td>8.067</td>\n",
       "      <td>0.664129</td>\n",
       "      <td>1.107410</td>\n",
       "      <td>0.744619</td>\n",
       "      <td>0.735455</td>\n",
       "    </tr>\n",
       "    <tr>\n",
       "      <th>B</th>\n",
       "      <td>7.170</td>\n",
       "      <td>9.765</td>\n",
       "      <td>9.279323</td>\n",
       "      <td>9.199</td>\n",
       "      <td>0.760023</td>\n",
       "      <td>1.107674</td>\n",
       "      <td>0.805858</td>\n",
       "      <td>0.803348</td>\n",
       "    </tr>\n",
       "  </tbody>\n",
       "</table>\n",
       "</div>"
      ],
      "text/plain": [
       "     unemployment                         fuel_price_usd_per_l            \\\n",
       "              min    max      mean median                  min       max   \n",
       "type                                                                       \n",
       "A           3.879  8.992  7.972611  8.067             0.664129  1.107410   \n",
       "B           7.170  9.765  9.279323  9.199             0.760023  1.107674   \n",
       "\n",
       "                          \n",
       "          mean    median  \n",
       "type                      \n",
       "A     0.744619  0.735455  \n",
       "B     0.805858  0.803348  "
      ]
     },
     "execution_count": 44,
     "metadata": {},
     "output_type": "execute_result"
    }
   ],
   "source": [
    "# For each store type, aggregate unemployment and fuel_price_usd_per_l: get min, max, mean, and median\n",
    "unemp_fuel_stats = sales.groupby(\"type\")[[\"unemployment\",\"fuel_price_usd_per_l\"]].agg([min, max, np.mean, np.median])\n",
    "unemp_fuel_stats"
   ]
  },
  {
   "cell_type": "markdown",
   "id": "cfef2dd0",
   "metadata": {},
   "source": [
    "# Pivot Table"
   ]
  },
  {
   "cell_type": "markdown",
   "id": "3b7d7b3c",
   "metadata": {},
   "source": [
    "### Pivot Table ist eine Alternative zu Group By\n",
    "### df.pivot_table(values = \"werte\", index = \"spalte\", columns = \"Spalten\", aggfunc([np.mean, np.median), fill_value = 0, margins = True)"
   ]
  },
  {
   "cell_type": "code",
   "execution_count": 45,
   "id": "d0f1311c",
   "metadata": {},
   "outputs": [
    {
     "data": {
      "text/plain": [
       "type\n",
       "A    23674.667242\n",
       "B    25696.678370\n",
       "Name: weekly_sales, dtype: float64"
      ]
     },
     "execution_count": 45,
     "metadata": {},
     "output_type": "execute_result"
    }
   ],
   "source": [
    "# Mit der groupby Methode:\n",
    "mean_sales_by_type_gr = sales.groupby(\"type\")[\"weekly_sales\"].agg(np.mean)\n",
    "mean_sales_by_type_gr\n"
   ]
  },
  {
   "cell_type": "code",
   "execution_count": 46,
   "id": "d6c2e97a",
   "metadata": {},
   "outputs": [
    {
     "data": {
      "text/html": [
       "<div>\n",
       "<style scoped>\n",
       "    .dataframe tbody tr th:only-of-type {\n",
       "        vertical-align: middle;\n",
       "    }\n",
       "\n",
       "    .dataframe tbody tr th {\n",
       "        vertical-align: top;\n",
       "    }\n",
       "\n",
       "    .dataframe thead th {\n",
       "        text-align: right;\n",
       "    }\n",
       "</style>\n",
       "<table border=\"1\" class=\"dataframe\">\n",
       "  <thead>\n",
       "    <tr style=\"text-align: right;\">\n",
       "      <th></th>\n",
       "      <th>weekly_sales</th>\n",
       "    </tr>\n",
       "    <tr>\n",
       "      <th>type</th>\n",
       "      <th></th>\n",
       "    </tr>\n",
       "  </thead>\n",
       "  <tbody>\n",
       "    <tr>\n",
       "      <th>A</th>\n",
       "      <td>23674.667242</td>\n",
       "    </tr>\n",
       "    <tr>\n",
       "      <th>B</th>\n",
       "      <td>25696.678370</td>\n",
       "    </tr>\n",
       "  </tbody>\n",
       "</table>\n",
       "</div>"
      ],
      "text/plain": [
       "      weekly_sales\n",
       "type              \n",
       "A     23674.667242\n",
       "B     25696.678370"
      ]
     },
     "execution_count": 46,
     "metadata": {},
     "output_type": "execute_result"
    }
   ],
   "source": [
    "# Mit Pivot Table\n",
    "# Pivot for mean weekly_sales for each store type\n",
    "mean_sales_by_type = sales.pivot_table(values = \"weekly_sales\", index = \"type\")\n",
    "mean_sales_by_type"
   ]
  },
  {
   "cell_type": "code",
   "execution_count": 47,
   "id": "a969d039",
   "metadata": {},
   "outputs": [
    {
     "data": {
      "text/html": [
       "<div>\n",
       "<style scoped>\n",
       "    .dataframe tbody tr th:only-of-type {\n",
       "        vertical-align: middle;\n",
       "    }\n",
       "\n",
       "    .dataframe tbody tr th {\n",
       "        vertical-align: top;\n",
       "    }\n",
       "\n",
       "    .dataframe thead tr th {\n",
       "        text-align: left;\n",
       "    }\n",
       "\n",
       "    .dataframe thead tr:last-of-type th {\n",
       "        text-align: right;\n",
       "    }\n",
       "</style>\n",
       "<table border=\"1\" class=\"dataframe\">\n",
       "  <thead>\n",
       "    <tr>\n",
       "      <th></th>\n",
       "      <th>mean</th>\n",
       "      <th>median</th>\n",
       "    </tr>\n",
       "    <tr>\n",
       "      <th></th>\n",
       "      <th>weekly_sales</th>\n",
       "      <th>weekly_sales</th>\n",
       "    </tr>\n",
       "    <tr>\n",
       "      <th>type</th>\n",
       "      <th></th>\n",
       "      <th></th>\n",
       "    </tr>\n",
       "  </thead>\n",
       "  <tbody>\n",
       "    <tr>\n",
       "      <th>A</th>\n",
       "      <td>23674.667242</td>\n",
       "      <td>11943.92</td>\n",
       "    </tr>\n",
       "    <tr>\n",
       "      <th>B</th>\n",
       "      <td>25696.678370</td>\n",
       "      <td>13336.08</td>\n",
       "    </tr>\n",
       "  </tbody>\n",
       "</table>\n",
       "</div>"
      ],
      "text/plain": [
       "              mean       median\n",
       "      weekly_sales weekly_sales\n",
       "type                           \n",
       "A     23674.667242     11943.92\n",
       "B     25696.678370     13336.08"
      ]
     },
     "execution_count": 47,
     "metadata": {},
     "output_type": "execute_result"
    }
   ],
   "source": [
    "# Pivot for mean and median weekly_sales for each store type\n",
    "mean_med_sales_by_type = sales.pivot_table(values = \"weekly_sales\", index = \"type\", aggfunc=([np.mean, np.median]))\n",
    "mean_med_sales_by_type"
   ]
  },
  {
   "cell_type": "code",
   "execution_count": 48,
   "id": "f03c7a5f",
   "metadata": {},
   "outputs": [
    {
     "data": {
      "text/html": [
       "<div>\n",
       "<style scoped>\n",
       "    .dataframe tbody tr th:only-of-type {\n",
       "        vertical-align: middle;\n",
       "    }\n",
       "\n",
       "    .dataframe tbody tr th {\n",
       "        vertical-align: top;\n",
       "    }\n",
       "\n",
       "    .dataframe thead th {\n",
       "        text-align: right;\n",
       "    }\n",
       "</style>\n",
       "<table border=\"1\" class=\"dataframe\">\n",
       "  <thead>\n",
       "    <tr style=\"text-align: right;\">\n",
       "      <th>is_holiday</th>\n",
       "      <th>False</th>\n",
       "      <th>True</th>\n",
       "    </tr>\n",
       "    <tr>\n",
       "      <th>type</th>\n",
       "      <th></th>\n",
       "      <th></th>\n",
       "    </tr>\n",
       "  </thead>\n",
       "  <tbody>\n",
       "    <tr>\n",
       "      <th>A</th>\n",
       "      <td>23768.583523</td>\n",
       "      <td>590.04525</td>\n",
       "    </tr>\n",
       "    <tr>\n",
       "      <th>B</th>\n",
       "      <td>25751.980533</td>\n",
       "      <td>810.70500</td>\n",
       "    </tr>\n",
       "  </tbody>\n",
       "</table>\n",
       "</div>"
      ],
      "text/plain": [
       "is_holiday         False       True\n",
       "type                               \n",
       "A           23768.583523  590.04525\n",
       "B           25751.980533  810.70500"
      ]
     },
     "execution_count": 48,
     "metadata": {},
     "output_type": "execute_result"
    }
   ],
   "source": [
    "# Pivot for mean weekly_sales by store type and holiday \n",
    "mean_sales_by_type_holiday = sales.pivot_table(values = \"weekly_sales\", columns = \"is_holiday\", index = \"type\")\n",
    "mean_sales_by_type_holiday"
   ]
  },
  {
   "cell_type": "code",
   "execution_count": 49,
   "id": "0586badc",
   "metadata": {},
   "outputs": [
    {
     "name": "stdout",
     "output_type": "stream",
     "text": [
      "type                    A              B\n",
      "department                              \n",
      "1            30961.725379   44050.626667\n",
      "2            67600.158788  112958.526667\n",
      "3            17160.002955   30580.655000\n",
      "4            44285.399091   51219.654167\n",
      "5            34821.011364   63236.875000\n",
      "...                   ...            ...\n",
      "95          123933.787121   77082.102500\n",
      "96           21367.042857    9528.538333\n",
      "97           28471.266970    5828.873333\n",
      "98           12875.423182     217.428333\n",
      "99             379.123659       0.000000\n",
      "\n",
      "[80 rows x 2 columns]\n"
     ]
    }
   ],
   "source": [
    "# Print mean weekly_sales by department and type; fill missing values with 0\n",
    "print(sales.pivot_table(values = \"weekly_sales\", index = \"department\", columns = \"type\", fill_value = 0))\n"
   ]
  },
  {
   "cell_type": "code",
   "execution_count": 50,
   "id": "1129194e",
   "metadata": {},
   "outputs": [
    {
     "name": "stdout",
     "output_type": "stream",
     "text": [
      "type                   A              B           All\n",
      "department                                           \n",
      "1           30961.725379   44050.626667  32052.467153\n",
      "2           67600.158788  112958.526667  71380.022778\n",
      "3           17160.002955   30580.655000  18278.390625\n",
      "4           44285.399091   51219.654167  44863.253681\n",
      "5           34821.011364   63236.875000  37189.000000\n",
      "...                  ...            ...           ...\n",
      "96          21367.042857    9528.538333  20337.607681\n",
      "97          28471.266970    5828.873333  26584.400833\n",
      "98          12875.423182     217.428333  11820.590278\n",
      "99            379.123659       0.000000    379.123659\n",
      "All         23674.667242   25696.678370  23843.950149\n",
      "\n",
      "[81 rows x 3 columns]\n"
     ]
    }
   ],
   "source": [
    "# Print the mean weekly_sales by department and type; fill missing values with 0s; sum all rows and cols\n",
    "print(sales.pivot_table(values=\"weekly_sales\", index=\"department\", columns=\"type\", fill_value = 0, margins=True))"
   ]
  }
 ],
 "metadata": {
  "kernelspec": {
   "display_name": "Python 3 (ipykernel)",
   "language": "python",
   "name": "python3"
  },
  "language_info": {
   "codemirror_mode": {
    "name": "ipython",
    "version": 3
   },
   "file_extension": ".py",
   "mimetype": "text/x-python",
   "name": "python",
   "nbconvert_exporter": "python",
   "pygments_lexer": "ipython3",
   "version": "3.9.7"
  }
 },
 "nbformat": 4,
 "nbformat_minor": 5
}
