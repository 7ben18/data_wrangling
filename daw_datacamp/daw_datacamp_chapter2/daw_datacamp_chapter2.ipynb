{
 "cells": [
  {
   "cell_type": "markdown",
   "id": "495f129d",
   "metadata": {},
   "source": [
    "# Summarische Statistik"
   ]
  },
  {
   "cell_type": "code",
   "execution_count": 18,
   "id": "8a5e73cb",
   "metadata": {},
   "outputs": [],
   "source": [
    "## Modul importieren\n",
    "import numpy as np\n",
    "import pandas as pd"
   ]
  },
  {
   "cell_type": "code",
   "execution_count": 19,
   "id": "db1a36d5",
   "metadata": {},
   "outputs": [
    {
     "data": {
      "text/html": [
       "<div>\n",
       "<style scoped>\n",
       "    .dataframe tbody tr th:only-of-type {\n",
       "        vertical-align: middle;\n",
       "    }\n",
       "\n",
       "    .dataframe tbody tr th {\n",
       "        vertical-align: top;\n",
       "    }\n",
       "\n",
       "    .dataframe thead th {\n",
       "        text-align: right;\n",
       "    }\n",
       "</style>\n",
       "<table border=\"1\" class=\"dataframe\">\n",
       "  <thead>\n",
       "    <tr style=\"text-align: right;\">\n",
       "      <th></th>\n",
       "      <th>region</th>\n",
       "      <th>state</th>\n",
       "      <th>individuals</th>\n",
       "      <th>family_members</th>\n",
       "      <th>state_pop</th>\n",
       "    </tr>\n",
       "  </thead>\n",
       "  <tbody>\n",
       "    <tr>\n",
       "      <th>0</th>\n",
       "      <td>East South Central</td>\n",
       "      <td>Alabama</td>\n",
       "      <td>2570.0</td>\n",
       "      <td>864.0</td>\n",
       "      <td>4887681</td>\n",
       "    </tr>\n",
       "    <tr>\n",
       "      <th>1</th>\n",
       "      <td>Pacific</td>\n",
       "      <td>Alaska</td>\n",
       "      <td>1434.0</td>\n",
       "      <td>582.0</td>\n",
       "      <td>735139</td>\n",
       "    </tr>\n",
       "    <tr>\n",
       "      <th>2</th>\n",
       "      <td>Mountain</td>\n",
       "      <td>Arizona</td>\n",
       "      <td>7259.0</td>\n",
       "      <td>2606.0</td>\n",
       "      <td>7158024</td>\n",
       "    </tr>\n",
       "  </tbody>\n",
       "</table>\n",
       "</div>"
      ],
      "text/plain": [
       "               region    state  individuals  family_members  state_pop\n",
       "0  East South Central  Alabama       2570.0           864.0    4887681\n",
       "1             Pacific   Alaska       1434.0           582.0     735139\n",
       "2            Mountain  Arizona       7259.0          2606.0    7158024"
      ]
     },
     "execution_count": 19,
     "metadata": {},
     "output_type": "execute_result"
    }
   ],
   "source": [
    "homelessness = pd.read_csv(\"homelessness.csv\", index_col=\"Unnamed: 0\")\n",
    "homelessness.head(3)"
   ]
  },
  {
   "cell_type": "code",
   "execution_count": 20,
   "id": "3c1a48eb",
   "metadata": {},
   "outputs": [
    {
     "name": "stdout",
     "output_type": "stream",
     "text": [
      "Mittelwert 7225.78431372549\n",
      "Median 3082.0\n",
      "Minimum 434.0\n",
      "Maximum 109008.0\n",
      "Modus 0    2280.0\n",
      "1    3776.0\n",
      "Name: individuals, dtype: float64\n",
      "Standardawbeichung 15991.025083231812\n",
      "Varianz 255712883.21254897\n",
      "Summe 368515.0\n",
      "Quantile 3993.0\n"
     ]
    }
   ],
   "source": [
    "# Mittelwert ausgeben\n",
    "homele_indi_mean = homelessness[\"individuals\"].mean()\n",
    "print(\"Mittelwert\", homele_indi_mean)\n",
    "\n",
    "# Median ausgeben\n",
    "homele_indi_median = homelessness[\"individuals\"].median()\n",
    "print(\"Median\", homele_indi_median)\n",
    "\n",
    "# Minimum ausgeben\n",
    "homele_indi_min = homelessness[\"individuals\"].min()\n",
    "print(\"Minimum\", homele_indi_min)\n",
    "\n",
    "# Maximum ausgeben\n",
    "homele_indi_max = homelessness[\"individuals\"].max()\n",
    "print(\"Maximum\", homele_indi_max)\n",
    "\n",
    "# Modus ausgeben\n",
    "homele_indi_modus = homelessness[\"individuals\"].mode()\n",
    "print(\"Modus\", homele_indi_modus)\n",
    "\n",
    "# Standardabweichung\n",
    "homele_indi_std = homelessness[\"individuals\"].std()\n",
    "print(\"Standardawbeichung\", homele_indi_std)\n",
    "\n",
    "# Varianz\n",
    "homele_indi_var = homelessness[\"individuals\"].var()\n",
    "print(\"Varianz\", homele_indi_var)\n",
    "\n",
    "homele_indi_sum = homelessness[\"individuals\"].sum()\n",
    "print(\"Summe\", homele_indi_sum)\n",
    "\n",
    "homele_indi_quantile = homelessness[\"individuals\"].quantile(0.6)\n",
    "print(\"Quantile\", homele_indi_quantile)"
   ]
  },
  {
   "cell_type": "code",
   "execution_count": 24,
   "id": "1c449ff3",
   "metadata": {},
   "outputs": [],
   "source": [
    "def pct30(spalte):\n",
    "    return spalte.quantile(0.3)\n",
    "\n",
    "def pct40(spalte):\n",
    "    return spalte.quantile(0.4)"
   ]
  },
  {
   "cell_type": "markdown",
   "id": "af2aca40",
   "metadata": {},
   "source": [
    "## Aggregier Methode"
   ]
  },
  {
   "cell_type": "code",
   "execution_count": 26,
   "id": "35c74561",
   "metadata": {},
   "outputs": [
    {
     "data": {
      "text/plain": [
       "2092741.0"
      ]
     },
     "execution_count": 26,
     "metadata": {},
     "output_type": "execute_result"
    }
   ],
   "source": [
    "homelessness[\"state_pop\"].agg(pct30)"
   ]
  },
  {
   "cell_type": "code",
   "execution_count": 28,
   "id": "babf4d14",
   "metadata": {},
   "outputs": [
    {
     "data": {
      "text/plain": [
       "individuals       1745.0\n",
       "state_pop      2092741.0\n",
       "dtype: float64"
      ]
     },
     "execution_count": 28,
     "metadata": {},
     "output_type": "execute_result"
    }
   ],
   "source": [
    "homelessness[[\"individuals\", \"state_pop\"]].agg(pct30)"
   ]
  },
  {
   "cell_type": "code",
   "execution_count": 29,
   "id": "89808475",
   "metadata": {},
   "outputs": [
    {
     "data": {
      "text/plain": [
       "pct30    2092741.0\n",
       "pct40    3148618.0\n",
       "Name: state_pop, dtype: float64"
      ]
     },
     "execution_count": 29,
     "metadata": {},
     "output_type": "execute_result"
    }
   ],
   "source": [
    "homelessness[\"state_pop\"].agg([pct30, pct40])"
   ]
  },
  {
   "cell_type": "markdown",
   "id": "7e37fd14",
   "metadata": {},
   "source": [
    "## Werte kummulieren"
   ]
  },
  {
   "cell_type": "code",
   "execution_count": 32,
   "id": "916fdba2",
   "metadata": {},
   "outputs": [
    {
     "data": {
      "text/plain": [
       "0     4887681\n",
       "1     5622820\n",
       "2    12780844\n",
       "Name: state_pop, dtype: int64"
      ]
     },
     "execution_count": 32,
     "metadata": {},
     "output_type": "execute_result"
    }
   ],
   "source": [
    "homelessness[\"state_pop\"].cumsum().head(3)\n",
    "# Kumuliert die Spalte auf mittels + "
   ]
  },
  {
   "cell_type": "code",
   "execution_count": 34,
   "id": "dd92117d",
   "metadata": {},
   "outputs": [
    {
     "data": {
      "text/plain": [
       "0    2.570000e+03\n",
       "1    3.685380e+06\n",
       "2    2.675217e+10\n",
       "3    6.099496e+13\n",
       "Name: individuals, dtype: float64"
      ]
     },
     "execution_count": 34,
     "metadata": {},
     "output_type": "execute_result"
    }
   ],
   "source": [
    "homelessness[\"individuals\"].cumprod().head(4)\n",
    "# Multipliziert die Spalte mittels *"
   ]
  },
  {
   "cell_type": "code",
   "execution_count": 36,
   "id": "bdd7a7ba",
   "metadata": {},
   "outputs": [
    {
     "data": {
      "text/plain": [
       "0      2570.0\n",
       "1      2570.0\n",
       "2      7259.0\n",
       "3      7259.0\n",
       "4    109008.0\n",
       "Name: individuals, dtype: float64"
      ]
     },
     "execution_count": 36,
     "metadata": {},
     "output_type": "execute_result"
    }
   ],
   "source": [
    "homelessness[\"individuals\"].cummax().head(5)"
   ]
  },
  {
   "cell_type": "code",
   "execution_count": 37,
   "id": "0ec9579f",
   "metadata": {},
   "outputs": [
    {
     "data": {
      "text/plain": [
       "0    2570.0\n",
       "1    1434.0\n",
       "2    1434.0\n",
       "3    1434.0\n",
       "4    1434.0\n",
       "Name: individuals, dtype: float64"
      ]
     },
     "execution_count": 37,
     "metadata": {},
     "output_type": "execute_result"
    }
   ],
   "source": [
    "homelessness[\"individuals\"].cummin().head(5)"
   ]
  },
  {
   "cell_type": "markdown",
   "id": "87feca42",
   "metadata": {},
   "source": [
    "# Sales Daten importieren"
   ]
  },
  {
   "cell_type": "code",
   "execution_count": 42,
   "id": "b2397631",
   "metadata": {},
   "outputs": [
    {
     "data": {
      "text/html": [
       "<div>\n",
       "<style scoped>\n",
       "    .dataframe tbody tr th:only-of-type {\n",
       "        vertical-align: middle;\n",
       "    }\n",
       "\n",
       "    .dataframe tbody tr th {\n",
       "        vertical-align: top;\n",
       "    }\n",
       "\n",
       "    .dataframe thead th {\n",
       "        text-align: right;\n",
       "    }\n",
       "</style>\n",
       "<table border=\"1\" class=\"dataframe\">\n",
       "  <thead>\n",
       "    <tr style=\"text-align: right;\">\n",
       "      <th></th>\n",
       "      <th>store</th>\n",
       "      <th>type</th>\n",
       "      <th>department</th>\n",
       "      <th>date</th>\n",
       "      <th>weekly_sales</th>\n",
       "      <th>is_holiday</th>\n",
       "      <th>temperature_c</th>\n",
       "      <th>fuel_price_usd_per_l</th>\n",
       "      <th>unemployment</th>\n",
       "    </tr>\n",
       "  </thead>\n",
       "  <tbody>\n",
       "    <tr>\n",
       "      <th>0</th>\n",
       "      <td>1</td>\n",
       "      <td>A</td>\n",
       "      <td>1</td>\n",
       "      <td>2010-02-05</td>\n",
       "      <td>24924.50</td>\n",
       "      <td>False</td>\n",
       "      <td>5.727778</td>\n",
       "      <td>0.679451</td>\n",
       "      <td>8.106</td>\n",
       "    </tr>\n",
       "    <tr>\n",
       "      <th>1</th>\n",
       "      <td>1</td>\n",
       "      <td>A</td>\n",
       "      <td>1</td>\n",
       "      <td>2010-03-05</td>\n",
       "      <td>21827.90</td>\n",
       "      <td>False</td>\n",
       "      <td>8.055556</td>\n",
       "      <td>0.693452</td>\n",
       "      <td>8.106</td>\n",
       "    </tr>\n",
       "    <tr>\n",
       "      <th>2</th>\n",
       "      <td>1</td>\n",
       "      <td>A</td>\n",
       "      <td>1</td>\n",
       "      <td>2010-04-02</td>\n",
       "      <td>57258.43</td>\n",
       "      <td>False</td>\n",
       "      <td>16.816667</td>\n",
       "      <td>0.718284</td>\n",
       "      <td>7.808</td>\n",
       "    </tr>\n",
       "    <tr>\n",
       "      <th>3</th>\n",
       "      <td>1</td>\n",
       "      <td>A</td>\n",
       "      <td>1</td>\n",
       "      <td>2010-05-07</td>\n",
       "      <td>17413.94</td>\n",
       "      <td>False</td>\n",
       "      <td>22.527778</td>\n",
       "      <td>0.748928</td>\n",
       "      <td>7.808</td>\n",
       "    </tr>\n",
       "    <tr>\n",
       "      <th>4</th>\n",
       "      <td>1</td>\n",
       "      <td>A</td>\n",
       "      <td>1</td>\n",
       "      <td>2010-06-04</td>\n",
       "      <td>17558.09</td>\n",
       "      <td>False</td>\n",
       "      <td>27.050000</td>\n",
       "      <td>0.714586</td>\n",
       "      <td>7.808</td>\n",
       "    </tr>\n",
       "  </tbody>\n",
       "</table>\n",
       "</div>"
      ],
      "text/plain": [
       "   store type  department        date  weekly_sales  is_holiday  \\\n",
       "0      1    A           1  2010-02-05      24924.50       False   \n",
       "1      1    A           1  2010-03-05      21827.90       False   \n",
       "2      1    A           1  2010-04-02      57258.43       False   \n",
       "3      1    A           1  2010-05-07      17413.94       False   \n",
       "4      1    A           1  2010-06-04      17558.09       False   \n",
       "\n",
       "   temperature_c  fuel_price_usd_per_l  unemployment  \n",
       "0       5.727778              0.679451         8.106  \n",
       "1       8.055556              0.693452         8.106  \n",
       "2      16.816667              0.718284         7.808  \n",
       "3      22.527778              0.748928         7.808  \n",
       "4      27.050000              0.714586         7.808  "
      ]
     },
     "execution_count": 42,
     "metadata": {},
     "output_type": "execute_result"
    }
   ],
   "source": [
    "sales_data = pd.read_csv(\"sales_subset.csv\", index_col=\"Unnamed: 0\")\n",
    "sales_data.head()"
   ]
  },
  {
   "cell_type": "code",
   "execution_count": 43,
   "id": "90b40afc",
   "metadata": {},
   "outputs": [
    {
     "name": "stdout",
     "output_type": "stream",
     "text": [
      "<class 'pandas.core.frame.DataFrame'>\n",
      "Int64Index: 10774 entries, 0 to 10773\n",
      "Data columns (total 9 columns):\n",
      " #   Column                Non-Null Count  Dtype  \n",
      "---  ------                --------------  -----  \n",
      " 0   store                 10774 non-null  int64  \n",
      " 1   type                  10774 non-null  object \n",
      " 2   department            10774 non-null  int64  \n",
      " 3   date                  10774 non-null  object \n",
      " 4   weekly_sales          10774 non-null  float64\n",
      " 5   is_holiday            10774 non-null  bool   \n",
      " 6   temperature_c         10774 non-null  float64\n",
      " 7   fuel_price_usd_per_l  10774 non-null  float64\n",
      " 8   unemployment          10774 non-null  float64\n",
      "dtypes: bool(1), float64(4), int64(2), object(2)\n",
      "memory usage: 768.1+ KB\n"
     ]
    }
   ],
   "source": [
    "sales_data.info()"
   ]
  },
  {
   "cell_type": "code",
   "execution_count": 46,
   "id": "940ceb89",
   "metadata": {},
   "outputs": [
    {
     "name": "stdout",
     "output_type": "stream",
     "text": [
      "23843.95014850566 12049.064999999999\n"
     ]
    }
   ],
   "source": [
    "sal_week_mean = sales_data[\"weekly_sales\"].mean()\n",
    "sal_week_median = sales_data[\"weekly_sales\"].median()\n",
    "print(sal_week_mean, sal_week_median)"
   ]
  },
  {
   "cell_type": "code",
   "execution_count": 52,
   "id": "8229b03c",
   "metadata": {},
   "outputs": [
    {
     "name": "stdout",
     "output_type": "stream",
     "text": [
      "2012-10-26 2010-02-05\n"
     ]
    }
   ],
   "source": [
    "sal_max_date = sales_data[\"date\"].max()\n",
    "sal_min_date = sales_data[\"date\"].min()\n",
    "print(sal_max_date, sal_min_date)"
   ]
  },
  {
   "cell_type": "code",
   "execution_count": null,
   "id": "58eb58d6",
   "metadata": {},
   "outputs": [],
   "source": []
  },
  {
   "cell_type": "code",
   "execution_count": null,
   "id": "d2c23654",
   "metadata": {},
   "outputs": [],
   "source": []
  },
  {
   "cell_type": "code",
   "execution_count": null,
   "id": "c22ded54",
   "metadata": {},
   "outputs": [],
   "source": []
  },
  {
   "cell_type": "code",
   "execution_count": null,
   "id": "d8872f9a",
   "metadata": {},
   "outputs": [],
   "source": []
  },
  {
   "cell_type": "code",
   "execution_count": null,
   "id": "9d67d94a",
   "metadata": {},
   "outputs": [],
   "source": []
  },
  {
   "cell_type": "code",
   "execution_count": null,
   "id": "c75f9aa8",
   "metadata": {},
   "outputs": [],
   "source": []
  },
  {
   "cell_type": "code",
   "execution_count": null,
   "id": "7754e47d",
   "metadata": {},
   "outputs": [],
   "source": []
  }
 ],
 "metadata": {
  "kernelspec": {
   "display_name": "Python 3 (ipykernel)",
   "language": "python",
   "name": "python3"
  },
  "language_info": {
   "codemirror_mode": {
    "name": "ipython",
    "version": 3
   },
   "file_extension": ".py",
   "mimetype": "text/x-python",
   "name": "python",
   "nbconvert_exporter": "python",
   "pygments_lexer": "ipython3",
   "version": "3.9.7"
  }
 },
 "nbformat": 4,
 "nbformat_minor": 5
}
