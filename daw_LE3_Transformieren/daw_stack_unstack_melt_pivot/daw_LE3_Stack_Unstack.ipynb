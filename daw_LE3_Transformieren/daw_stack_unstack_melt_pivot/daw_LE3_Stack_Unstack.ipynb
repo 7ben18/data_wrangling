{
 "cells": [
  {
   "cell_type": "code",
   "execution_count": 1,
   "id": "f379da1e",
   "metadata": {},
   "outputs": [],
   "source": [
    "import pandas as pd"
   ]
  },
  {
   "cell_type": "code",
   "execution_count": 10,
   "id": "422d4ae6",
   "metadata": {},
   "outputs": [
    {
     "data": {
      "text/html": [
       "<div>\n",
       "<style scoped>\n",
       "    .dataframe tbody tr th:only-of-type {\n",
       "        vertical-align: middle;\n",
       "    }\n",
       "\n",
       "    .dataframe tbody tr th {\n",
       "        vertical-align: top;\n",
       "    }\n",
       "\n",
       "    .dataframe thead th {\n",
       "        text-align: right;\n",
       "    }\n",
       "</style>\n",
       "<table border=\"1\" class=\"dataframe\">\n",
       "  <thead>\n",
       "    <tr style=\"text-align: right;\">\n",
       "      <th>Attributes</th>\n",
       "      <th>id</th>\n",
       "      <th>city</th>\n",
       "      <th>population</th>\n",
       "      <th>rank</th>\n",
       "    </tr>\n",
       "    <tr>\n",
       "      <th>letter</th>\n",
       "      <th></th>\n",
       "      <th></th>\n",
       "      <th></th>\n",
       "      <th></th>\n",
       "    </tr>\n",
       "  </thead>\n",
       "  <tbody>\n",
       "    <tr>\n",
       "      <th>A</th>\n",
       "      <td>5</td>\n",
       "      <td>Bern</td>\n",
       "      <td>102424</td>\n",
       "      <td>11</td>\n",
       "    </tr>\n",
       "    <tr>\n",
       "      <th>B</th>\n",
       "      <td>2</td>\n",
       "      <td>Blaurib</td>\n",
       "      <td>34204</td>\n",
       "      <td>41</td>\n",
       "    </tr>\n",
       "    <tr>\n",
       "      <th>C</th>\n",
       "      <td>3</td>\n",
       "      <td>Buege</td>\n",
       "      <td>452343</td>\n",
       "      <td>32</td>\n",
       "    </tr>\n",
       "    <tr>\n",
       "      <th>D</th>\n",
       "      <td>4</td>\n",
       "      <td>Bepo</td>\n",
       "      <td>3424</td>\n",
       "      <td>1</td>\n",
       "    </tr>\n",
       "  </tbody>\n",
       "</table>\n",
       "</div>"
      ],
      "text/plain": [
       "Attributes  id     city  population  rank\n",
       "letter                                   \n",
       "A            5     Bern      102424    11\n",
       "B            2  Blaurib       34204    41\n",
       "C            3    Buege      452343    32\n",
       "D            4     Bepo        3424     1"
      ]
     },
     "execution_count": 10,
     "metadata": {},
     "output_type": "execute_result"
    }
   ],
   "source": [
    "data = {\n",
    "    \"id\": [5,2,3,4],\n",
    "    \"city\": [\"Bern\", \"Blaurib\", \"Buege\", \"Bepo\"],\n",
    "    \"population\": [102424, 34204, 452343, 3424],\n",
    "    \"rank\": [11, 41,32,1]}\n",
    "\n",
    "df = pd.DataFrame(data,\n",
    "            index = pd.Index([\"A\", \"B\", \"C\", \"D\"], name = \"letter\"),\n",
    "            columns = pd.Index([\"id\", \"city\", \"population\", \"rank\"], name = \"Attributes\"))\n",
    "\n",
    "df"
   ]
  },
  {
   "cell_type": "markdown",
   "id": "5e568b45",
   "metadata": {},
   "source": [
    "letter = name der Index Spalte \n",
    "\n",
    "Attributes = Name der Spalten "
   ]
  },
  {
   "cell_type": "code",
   "execution_count": 18,
   "id": "c2b5dc14",
   "metadata": {},
   "outputs": [
    {
     "name": "stdout",
     "output_type": "stream",
     "text": [
      "letter  Attributes\n",
      "A       id                  5\n",
      "        city             Bern\n",
      "        population     102424\n",
      "        rank               11\n",
      "B       id                  2\n",
      "        city          Blaurib\n",
      "        population      34204\n",
      "        rank               41\n",
      "C       id                  3\n",
      "        city            Buege\n",
      "        population     452343\n",
      "        rank               32\n",
      "D       id                  4\n",
      "        city             Bepo\n",
      "        population       3424\n",
      "        rank                1\n",
      "dtype: object\n",
      "<class 'pandas.core.series.Series'>\n"
     ]
    }
   ],
   "source": [
    "# Index Spalten Name\n",
    "df_stack_series = df.stack(\"Attributes\")\n",
    "\n",
    "print(df_stack_series)\n",
    "print(type(df_stack_series))\n"
   ]
  },
  {
   "cell_type": "code",
   "execution_count": 14,
   "id": "d377e3dc",
   "metadata": {},
   "outputs": [
    {
     "data": {
      "text/html": [
       "<div>\n",
       "<style scoped>\n",
       "    .dataframe tbody tr th:only-of-type {\n",
       "        vertical-align: middle;\n",
       "    }\n",
       "\n",
       "    .dataframe tbody tr th {\n",
       "        vertical-align: top;\n",
       "    }\n",
       "\n",
       "    .dataframe thead th {\n",
       "        text-align: right;\n",
       "    }\n",
       "</style>\n",
       "<table border=\"1\" class=\"dataframe\">\n",
       "  <thead>\n",
       "    <tr style=\"text-align: right;\">\n",
       "      <th>letter</th>\n",
       "      <th>A</th>\n",
       "      <th>B</th>\n",
       "      <th>C</th>\n",
       "      <th>D</th>\n",
       "    </tr>\n",
       "    <tr>\n",
       "      <th>Attributes</th>\n",
       "      <th></th>\n",
       "      <th></th>\n",
       "      <th></th>\n",
       "      <th></th>\n",
       "    </tr>\n",
       "  </thead>\n",
       "  <tbody>\n",
       "    <tr>\n",
       "      <th>id</th>\n",
       "      <td>5</td>\n",
       "      <td>2</td>\n",
       "      <td>3</td>\n",
       "      <td>4</td>\n",
       "    </tr>\n",
       "    <tr>\n",
       "      <th>city</th>\n",
       "      <td>Bern</td>\n",
       "      <td>Blaurib</td>\n",
       "      <td>Buege</td>\n",
       "      <td>Bepo</td>\n",
       "    </tr>\n",
       "    <tr>\n",
       "      <th>population</th>\n",
       "      <td>102424</td>\n",
       "      <td>34204</td>\n",
       "      <td>452343</td>\n",
       "      <td>3424</td>\n",
       "    </tr>\n",
       "    <tr>\n",
       "      <th>rank</th>\n",
       "      <td>11</td>\n",
       "      <td>41</td>\n",
       "      <td>32</td>\n",
       "      <td>1</td>\n",
       "    </tr>\n",
       "  </tbody>\n",
       "</table>\n",
       "</div>"
      ],
      "text/plain": [
       "letter           A        B       C     D\n",
       "Attributes                               \n",
       "id               5        2       3     4\n",
       "city          Bern  Blaurib   Buege  Bepo\n",
       "population  102424    34204  452343  3424\n",
       "rank            11       41      32     1"
      ]
     },
     "execution_count": 14,
     "metadata": {},
     "output_type": "execute_result"
    }
   ],
   "source": [
    "df_stack_series.unstack(\"letter\")\n",
    "# Bei unstack kommt der Index Name von der Spalten"
   ]
  },
  {
   "cell_type": "code",
   "execution_count": 21,
   "id": "c6913988",
   "metadata": {},
   "outputs": [
    {
     "data": {
      "text/html": [
       "<div>\n",
       "<style scoped>\n",
       "    .dataframe tbody tr th:only-of-type {\n",
       "        vertical-align: middle;\n",
       "    }\n",
       "\n",
       "    .dataframe tbody tr th {\n",
       "        vertical-align: top;\n",
       "    }\n",
       "\n",
       "    .dataframe thead th {\n",
       "        text-align: right;\n",
       "    }\n",
       "</style>\n",
       "<table border=\"1\" class=\"dataframe\">\n",
       "  <thead>\n",
       "    <tr style=\"text-align: right;\">\n",
       "      <th>Attributes</th>\n",
       "      <th>id</th>\n",
       "      <th>city</th>\n",
       "      <th>population</th>\n",
       "      <th>rank</th>\n",
       "    </tr>\n",
       "    <tr>\n",
       "      <th>letter</th>\n",
       "      <th></th>\n",
       "      <th></th>\n",
       "      <th></th>\n",
       "      <th></th>\n",
       "    </tr>\n",
       "  </thead>\n",
       "  <tbody>\n",
       "    <tr>\n",
       "      <th>A</th>\n",
       "      <td>5</td>\n",
       "      <td>Bern</td>\n",
       "      <td>102424</td>\n",
       "      <td>11</td>\n",
       "    </tr>\n",
       "    <tr>\n",
       "      <th>B</th>\n",
       "      <td>2</td>\n",
       "      <td>Blaurib</td>\n",
       "      <td>34204</td>\n",
       "      <td>41</td>\n",
       "    </tr>\n",
       "    <tr>\n",
       "      <th>C</th>\n",
       "      <td>3</td>\n",
       "      <td>Buege</td>\n",
       "      <td>452343</td>\n",
       "      <td>32</td>\n",
       "    </tr>\n",
       "    <tr>\n",
       "      <th>D</th>\n",
       "      <td>4</td>\n",
       "      <td>Bepo</td>\n",
       "      <td>3424</td>\n",
       "      <td>1</td>\n",
       "    </tr>\n",
       "  </tbody>\n",
       "</table>\n",
       "</div>"
      ],
      "text/plain": [
       "Attributes id     city population rank\n",
       "letter                                \n",
       "A           5     Bern     102424   11\n",
       "B           2  Blaurib      34204   41\n",
       "C           3    Buege     452343   32\n",
       "D           4     Bepo       3424    1"
      ]
     },
     "execution_count": 21,
     "metadata": {},
     "output_type": "execute_result"
    }
   ],
   "source": [
    "df_stack_series.unstack(\"Attributes\")\n",
    "# Urspruengliche Spalte Index Name"
   ]
  },
  {
   "cell_type": "code",
   "execution_count": null,
   "id": "96c9412c",
   "metadata": {},
   "outputs": [],
   "source": []
  },
  {
   "cell_type": "code",
   "execution_count": null,
   "id": "9d620d65",
   "metadata": {},
   "outputs": [],
   "source": []
  }
 ],
 "metadata": {
  "kernelspec": {
   "display_name": "Python 3 (ipykernel)",
   "language": "python",
   "name": "python3"
  },
  "language_info": {
   "codemirror_mode": {
    "name": "ipython",
    "version": 3
   },
   "file_extension": ".py",
   "mimetype": "text/x-python",
   "name": "python",
   "nbconvert_exporter": "python",
   "pygments_lexer": "ipython3",
   "version": "3.9.7"
  }
 },
 "nbformat": 4,
 "nbformat_minor": 5
}
